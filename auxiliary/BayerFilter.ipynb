{
 "cells": [
  {
   "cell_type": "markdown",
   "metadata": {},
   "source": [
    "# Filtro de Bayer"
   ]
  },
  {
   "cell_type": "code",
   "execution_count": 1,
   "metadata": {},
   "outputs": [],
   "source": [
    "%matplotlib inline\n",
    "import os\n",
    "import numpy as np\n",
    "import imageio\n",
    "from scipy.ndimage import filters\n",
    "import matplotlib.pyplot as plt\n",
    "import PIL\n",
    "from PIL import Image"
   ]
  },
  {
   "cell_type": "markdown",
   "metadata": {},
   "source": [
    "## Create output folder"
   ]
  },
  {
   "cell_type": "code",
   "execution_count": 2,
   "metadata": {},
   "outputs": [],
   "source": [
    "out_path = 'filtro_bayer'\n",
    "if not os.path.exists(out_path):\n",
    "    os.mkdir(out_path)"
   ]
  },
  {
   "cell_type": "markdown",
   "metadata": {},
   "source": [
    "## Carrega uma imagem colorida"
   ]
  },
  {
   "cell_type": "code",
   "execution_count": 3,
   "metadata": {},
   "outputs": [],
   "source": [
    "# im = imageio.imread('./images/arvore_800x800.png')\n",
    "im = imageio.imread('./images/arvore_02_512x512.png')"
   ]
  },
  {
   "cell_type": "code",
   "execution_count": 4,
   "metadata": {},
   "outputs": [],
   "source": [
    "# Se imagem possui mais de três canais. Remover o canal de transparência.\n",
    "if im.ndim > 2:\n",
    "    if im.shape[2] > 3:\n",
    "        im = im[:,:,0:3]"
   ]
  },
  {
   "cell_type": "code",
   "execution_count": 5,
   "metadata": {},
   "outputs": [
    {
     "name": "stdout",
     "output_type": "stream",
     "text": [
      "(512, 512, 3)\n",
      "uint8\n",
      "0 255\n"
     ]
    }
   ],
   "source": [
    "print(im.shape)\n",
    "print(im.dtype)\n",
    "print(im.min(), im.max())"
   ]
  },
  {
   "cell_type": "markdown",
   "metadata": {},
   "source": [
    "## Reduz a imagem para 16 x 16"
   ]
  },
  {
   "cell_type": "code",
   "execution_count": 6,
   "metadata": {},
   "outputs": [],
   "source": [
    "# l = im.shape[0]//16\n",
    "# w = im.shape[1]//16\n",
    "\n",
    "# # Cria uma nova imagem em branco.\n",
    "# im_new = np.zeros([16, 16, 3], dtype=np.uint8)\n",
    "\n",
    "# c_i = 0 # Contador de linhas\n",
    "# c_j = 0 # Contador de colunas\n",
    "\n",
    "# for i in range(0, im.shape[0], l):\n",
    "#     # TEST\n",
    "#     ### print('--->' + str(i))\n",
    "    \n",
    "#     for j in range(0, im.shape[1], w):\n",
    "#         # TEST\n",
    "#         ### print(i, j)\n",
    "        \n",
    "#         im_temp = im[i:i+l, j:j+w, :]\n",
    "        \n",
    "#         # Calcula a média dos pixels da região para cada canal.\n",
    "#         im_new[c_i, c_j, 0] = im_temp[:,:,0].mean()\n",
    "#         im_new[c_i, c_j, 1] = im_temp[:,:,1].mean()\n",
    "#         im_new[c_i, c_j, 2] = im_temp[:,:,2].mean()\n",
    "        \n",
    "#         # Incrementa a coluna\n",
    "#         c_j = c_j + 1\n",
    "        \n",
    "#     # Incrementa a linha\n",
    "#     c_i = c_i + 1       \n",
    "#     # Inicializa a coluna\n",
    "#     c_j = 0"
   ]
  },
  {
   "cell_type": "code",
   "execution_count": 7,
   "metadata": {},
   "outputs": [],
   "source": [
    "im_new = im"
   ]
  },
  {
   "cell_type": "code",
   "execution_count": 8,
   "metadata": {},
   "outputs": [
    {
     "name": "stdout",
     "output_type": "stream",
     "text": [
      "uint8\n",
      "(512, 512, 3)\n"
     ]
    }
   ],
   "source": [
    "print(im_new.dtype)\n",
    "print(im_new.shape)"
   ]
  },
  {
   "cell_type": "code",
   "execution_count": 9,
   "metadata": {},
   "outputs": [
    {
     "data": {
      "text/plain": [
       "<matplotlib.image.AxesImage at 0x1fea9838b08>"
      ]
     },
     "execution_count": 9,
     "metadata": {},
     "output_type": "execute_result"
    },
    {
     "data": {
      "image/png": "[encoded data removed]",
      "text/plain": [
       "<Figure size 432x288 with 1 Axes>"
      ]
     },
     "metadata": {
      "needs_background": "light"
     },
     "output_type": "display_data"
    }
   ],
   "source": [
    "plt.imshow(im_new)"
   ]
  },
  {
   "cell_type": "code",
   "execution_count": 10,
   "metadata": {},
   "outputs": [],
   "source": [
    "im_bayer = np.zeros([im_new.shape[0], im_new.shape[1]], dtype=np.uint8)\n",
    "\n",
    "# Vermelho\n",
    "im_bayer[1::2, 1::2] = im_new[1::2, 1::2, 0]\n",
    "# Verde\n",
    "im_bayer[1::2, 0::2] = im_new[1::2, 0::2, 1]\n",
    "im_bayer[0::2, 1::2] = im_new[0::2, 1::2, 1]\n",
    "# Azul\n",
    "im_bayer[::2, ::2] = im_new[::2, ::2, 2]"
   ]
  },
  {
   "cell_type": "code",
   "execution_count": 11,
   "metadata": {},
   "outputs": [
    {
     "data": {
      "text/plain": [
       "array([[255, 255, 255, ..., 255, 255, 255],\n",
       "       [255, 255, 255, ..., 255, 255, 255],\n",
       "       [255, 255, 255, ..., 255, 255, 255],\n",
       "       ...,\n",
       "       [255, 255, 255, ..., 255, 255, 255],\n",
       "       [255, 255, 255, ..., 255, 255, 255],\n",
       "       [255, 255, 255, ..., 255, 255, 255]], dtype=uint8)"
      ]
     },
     "execution_count": 11,
     "metadata": {},
     "output_type": "execute_result"
    }
   ],
   "source": [
    "im_bayer"
   ]
  },
  {
   "cell_type": "code",
   "execution_count": 12,
   "metadata": {},
   "outputs": [],
   "source": [
    "im_bayer_rgb = np.zeros([im_new.shape[0], im_new.shape[1], 3], dtype=np.uint8)\n",
    "\n",
    "# Vermelho\n",
    "im_bayer_rgb[1::2, 1::2, 0] = im_new[1::2, 1::2, 0]\n",
    "# Verde\n",
    "im_bayer_rgb[1::2, 0::2, 1] = im_new[1::2, 0::2, 1]\n",
    "im_bayer_rgb[0::2, 1::2, 1] = im_new[0::2, 1::2, 1]\n",
    "# Azul\n",
    "im_bayer_rgb[::2, ::2, 2] = im_new[::2, ::2, 2]"
   ]
  },
  {
   "cell_type": "code",
   "execution_count": 13,
   "metadata": {},
   "outputs": [
    {
     "data": {
      "text/plain": [
       "array([[[  0,   0, 255],\n",
       "        [  0, 255,   0],\n",
       "        [  0,   0, 255],\n",
       "        ...,\n",
       "        [  0, 255,   0],\n",
       "        [  0,   0, 255],\n",
       "        [  0, 255,   0]],\n",
       "\n",
       "       [[  0, 255,   0],\n",
       "        [255,   0,   0],\n",
       "        [  0, 255,   0],\n",
       "        ...,\n",
       "        [255,   0,   0],\n",
       "        [  0, 255,   0],\n",
       "        [255,   0,   0]],\n",
       "\n",
       "       [[  0,   0, 255],\n",
       "        [  0, 255,   0],\n",
       "        [  0,   0, 255],\n",
       "        ...,\n",
       "        [  0, 255,   0],\n",
       "        [  0,   0, 255],\n",
       "        [  0, 255,   0]],\n",
       "\n",
       "       ...,\n",
       "\n",
       "       [[  0, 255,   0],\n",
       "        [255,   0,   0],\n",
       "        [  0, 255,   0],\n",
       "        ...,\n",
       "        [255,   0,   0],\n",
       "        [  0, 255,   0],\n",
       "        [255,   0,   0]],\n",
       "\n",
       "       [[  0,   0, 255],\n",
       "        [  0, 255,   0],\n",
       "        [  0,   0, 255],\n",
       "        ...,\n",
       "        [  0, 255,   0],\n",
       "        [  0,   0, 255],\n",
       "        [  0, 255,   0]],\n",
       "\n",
       "       [[  0, 255,   0],\n",
       "        [255,   0,   0],\n",
       "        [  0, 255,   0],\n",
       "        ...,\n",
       "        [255,   0,   0],\n",
       "        [  0, 255,   0],\n",
       "        [255,   0,   0]]], dtype=uint8)"
      ]
     },
     "execution_count": 13,
     "metadata": {},
     "output_type": "execute_result"
    }
   ],
   "source": [
    "im_bayer_rgb"
   ]
  },
  {
   "cell_type": "code",
   "execution_count": 14,
   "metadata": {},
   "outputs": [
    {
     "data": {
      "text/plain": [
       "<matplotlib.image.AxesImage at 0x1fead3c0448>"
      ]
     },
     "execution_count": 14,
     "metadata": {},
     "output_type": "execute_result"
    },
    {
     "data": {
      "image/png": "[encoded data removed]",
      "text/plain": [
       "<Figure size 432x288 with 3 Axes>"
      ]
     },
     "metadata": {
      "needs_background": "light"
     },
     "output_type": "display_data"
    }
   ],
   "source": [
    "plt.subplot(1,3,1)\n",
    "plt.imshow(im_new)\n",
    "plt.subplot(1,3,2)\n",
    "plt.imshow(im_bayer, cmap='gray')\n",
    "plt.subplot(1,3,3)\n",
    "plt.imshow(im_bayer_rgb)"
   ]
  },
  {
   "cell_type": "code",
   "execution_count": 15,
   "metadata": {},
   "outputs": [],
   "source": [
    "# Salva as imagens em arquivo.\n",
    "imageio.imsave(out_path + '/' + 'im_bayer.png', im_bayer)\n",
    "imageio.imsave(out_path + '/' + 'im_bayer_rgb.png', im_bayer_rgb)"
   ]
  },
  {
   "cell_type": "code",
   "execution_count": 16,
   "metadata": {},
   "outputs": [],
   "source": [
    "## Resize the image to original size"
   ]
  },
  {
   "cell_type": "code",
   "execution_count": 17,
   "metadata": {},
   "outputs": [],
   "source": [
    "im_bayer_ok = np.array(Image.fromarray(im_bayer).resize(size=(512, 512), resample=PIL.Image.NEAREST))\n",
    "im_bayer_rgb_ok = np.array(Image.fromarray(im_bayer_rgb).resize(size=(512, 512), resample=PIL.Image.NEAREST))"
   ]
  },
  {
   "cell_type": "code",
   "execution_count": 18,
   "metadata": {},
   "outputs": [],
   "source": [
    "# Salva as imagens em arquivo.\n",
    "imageio.imsave(out_path + '/' + 'bayer_512x512.png', im_bayer_ok)\n",
    "imageio.imsave(out_path + '/' + 'bayer_rgb_512x512.png', im_bayer_rgb_ok)"
   ]
  },
  {
   "cell_type": "markdown",
   "metadata": {},
   "source": [
    "## Demosaicagem usando interpolação bi-linear"
   ]
  },
  {
   "cell_type": "code",
   "execution_count": 19,
   "metadata": {},
   "outputs": [],
   "source": [
    "# Separa os canais da imagem RAW\n",
    "im_bayer_r = np.zeros([im_bayer.shape[0], im_bayer.shape[1]], dtype=np.uint8)\n",
    "im_bayer_g = np.zeros([im_bayer.shape[0], im_bayer.shape[1]], dtype=np.uint8)\n",
    "im_bayer_b = np.zeros([im_bayer.shape[0], im_bayer.shape[1]], dtype=np.uint8)\n",
    "\n",
    "# Vermelho\n",
    "im_bayer_r[1::2, 1::2] = im_bayer[1::2, 1::2]\n",
    "# Verde\n",
    "im_bayer_g[1::2, 0::2] = im_bayer[1::2, 0::2]\n",
    "im_bayer_g[0::2, 1::2] = im_bayer[0::2, 1::2]\n",
    "# Azul\n",
    "im_bayer_b[::2, ::2] = im_bayer[::2, ::2]"
   ]
  },
  {
   "cell_type": "code",
   "execution_count": 20,
   "metadata": {},
   "outputs": [
    {
     "name": "stdout",
     "output_type": "stream",
     "text": [
      "[[  0   0   0 ...   0   0   0]\n",
      " [  0 255   0 ... 255   0 255]\n",
      " [  0   0   0 ...   0   0   0]\n",
      " ...\n",
      " [  0 255   0 ... 255   0 255]\n",
      " [  0   0   0 ...   0   0   0]\n",
      " [  0 255   0 ... 255   0 255]]\n"
     ]
    }
   ],
   "source": [
    "print(im_bayer_r)"
   ]
  },
  {
   "cell_type": "code",
   "execution_count": 21,
   "metadata": {},
   "outputs": [
    {
     "name": "stdout",
     "output_type": "stream",
     "text": [
      "[[  0 255   0 ... 255   0 255]\n",
      " [255   0 255 ...   0 255   0]\n",
      " [  0 255   0 ... 255   0 255]\n",
      " ...\n",
      " [255   0 255 ...   0 255   0]\n",
      " [  0 255   0 ... 255   0 255]\n",
      " [255   0 255 ...   0 255   0]]\n"
     ]
    }
   ],
   "source": [
    "print(im_bayer_g)"
   ]
  },
  {
   "cell_type": "code",
   "execution_count": 22,
   "metadata": {},
   "outputs": [
    {
     "name": "stdout",
     "output_type": "stream",
     "text": [
      "[[255   0 255 ...   0 255   0]\n",
      " [  0   0   0 ...   0   0   0]\n",
      " [255   0 255 ...   0 255   0]\n",
      " ...\n",
      " [  0   0   0 ...   0   0   0]\n",
      " [255   0 255 ...   0 255   0]\n",
      " [  0   0   0 ...   0   0   0]]\n"
     ]
    }
   ],
   "source": [
    "print(im_bayer_b)"
   ]
  },
  {
   "cell_type": "markdown",
   "metadata": {},
   "source": [
    "## Plota as imagens na tela."
   ]
  },
  {
   "cell_type": "code",
   "execution_count": 23,
   "metadata": {},
   "outputs": [
    {
     "data": {
      "text/plain": [
       "<matplotlib.image.AxesImage at 0x1fead4bdf48>"
      ]
     },
     "execution_count": 23,
     "metadata": {},
     "output_type": "execute_result"
    },
    {
     "data": {
      "image/png": "[encoded data removed]",
      "text/plain": [
       "<Figure size 432x288 with 3 Axes>"
      ]
     },
     "metadata": {
      "needs_background": "light"
     },
     "output_type": "display_data"
    }
   ],
   "source": [
    "plt.subplot(1,3,1)\n",
    "plt.imshow(im_bayer_r, cmap='Reds')\n",
    "plt.subplot(1,3,2)\n",
    "plt.imshow(im_bayer_g, cmap='Greens')\n",
    "plt.subplot(1,3,3)\n",
    "plt.imshow(im_bayer_b, cmap='Blues')"
   ]
  },
  {
   "cell_type": "code",
   "execution_count": 24,
   "metadata": {},
   "outputs": [],
   "source": [
    "im_dem_r = np.zeros([im_bayer.shape[0], im_bayer.shape[1]], dtype=np.uint8)\n",
    "im_dem_g = np.zeros([im_bayer.shape[0], im_bayer.shape[1]], dtype=np.uint8)\n",
    "im_dem_b = np.zeros([im_bayer.shape[0], im_bayer.shape[1]], dtype=np.uint8)"
   ]
  },
  {
   "cell_type": "code",
   "execution_count": 25,
   "metadata": {},
   "outputs": [],
   "source": [
    "mask_2 = np.array([[1, 1, 1], [1, 0, 1], [1, 1, 1]], dtype=np.float) / 2\n",
    "mask_4 = np.array([[1, 1, 1], [1, 0, 1], [1, 1, 1]], dtype=np.float) / 4\n",
    "\n",
    "im_temp_r_2 = filters.convolve(im_bayer_r, mask_2, mode='mirror')\n",
    "im_temp_r_4 = filters.convolve(im_bayer_r, mask_4, mode='mirror')\n",
    "\n",
    "im_temp_g_4 = filters.convolve(im_bayer_g, mask_4, mode='mirror')\n",
    "\n",
    "im_temp_b_2 = filters.convolve(im_bayer_b, mask_2, mode='mirror')\n",
    "im_temp_b_4 = filters.convolve(im_bayer_b, mask_4, mode='mirror')"
   ]
  },
  {
   "cell_type": "code",
   "execution_count": 26,
   "metadata": {},
   "outputs": [
    {
     "name": "stdout",
     "output_type": "stream",
     "text": [
      "[[254 255 254 ... 255 254 255]\n",
      " [255   0 255 ...   0 255   0]\n",
      " [254 255 254 ... 255 254 255]\n",
      " ...\n",
      " [255   0 255 ...   0 255   0]\n",
      " [254 255 254 ... 255 254 255]\n",
      " [255   0 255 ...   0 255   0]]\n"
     ]
    }
   ],
   "source": [
    "print(im_temp_r_2)"
   ]
  },
  {
   "cell_type": "code",
   "execution_count": 27,
   "metadata": {},
   "outputs": [
    {
     "name": "stdout",
     "output_type": "stream",
     "text": [
      "[[255 127 255 ... 127 255 127]\n",
      " [127   0 127 ...   0 127   0]\n",
      " [255 127 255 ... 127 255 127]\n",
      " ...\n",
      " [127   0 127 ...   0 127   0]\n",
      " [255 127 255 ... 127 255 127]\n",
      " [127   0 127 ...   0 127   0]]\n"
     ]
    }
   ],
   "source": [
    "print(im_temp_r_4)"
   ]
  },
  {
   "cell_type": "code",
   "execution_count": 28,
   "metadata": {},
   "outputs": [
    {
     "name": "stdout",
     "output_type": "stream",
     "text": [
      "[[255 255 255 ... 255 255 255]\n",
      " [255 255 255 ... 255 255 255]\n",
      " [255 255 255 ... 255 255 255]\n",
      " ...\n",
      " [255 255 255 ... 255 255 255]\n",
      " [255 255 255 ... 255 255 255]\n",
      " [255 255 255 ... 255 255 255]]\n"
     ]
    }
   ],
   "source": [
    "print(im_temp_g_4)"
   ]
  },
  {
   "cell_type": "code",
   "execution_count": 29,
   "metadata": {},
   "outputs": [
    {
     "name": "stdout",
     "output_type": "stream",
     "text": [
      "[[  0 255   0 ... 255   0 255]\n",
      " [255 254 255 ... 254 255 254]\n",
      " [  0 255   0 ... 255   0 255]\n",
      " ...\n",
      " [255 254 255 ... 254 255 254]\n",
      " [  0 255   0 ... 255   0 255]\n",
      " [255 254 255 ... 254 255 254]]\n"
     ]
    }
   ],
   "source": [
    "print(im_temp_b_2)"
   ]
  },
  {
   "cell_type": "code",
   "execution_count": 30,
   "metadata": {},
   "outputs": [
    {
     "name": "stdout",
     "output_type": "stream",
     "text": [
      "[[  0 127   0 ... 127   0 127]\n",
      " [127 255 127 ... 255 127 255]\n",
      " [  0 127   0 ... 127   0 127]\n",
      " ...\n",
      " [127 255 127 ... 255 127 255]\n",
      " [  0 127   0 ... 127   0 127]\n",
      " [127 255 127 ... 255 127 255]]\n"
     ]
    }
   ],
   "source": [
    "print(im_temp_b_4)"
   ]
  },
  {
   "cell_type": "code",
   "execution_count": 31,
   "metadata": {},
   "outputs": [
    {
     "data": {
      "text/plain": [
       "<matplotlib.image.AxesImage at 0x1feae544d88>"
      ]
     },
     "execution_count": 31,
     "metadata": {},
     "output_type": "execute_result"
    },
    {
     "data": {
      "image/png": "[encoded data removed]",
      "text/plain": [
       "<Figure size 432x288 with 2 Axes>"
      ]
     },
     "metadata": {
      "needs_background": "light"
     },
     "output_type": "display_data"
    }
   ],
   "source": [
    "plt.subplot(1,2,1)\n",
    "plt.imshow(im_temp_r_2, cmap='Reds')\n",
    "plt.subplot(1,2,2)\n",
    "plt.imshow(im_temp_r_4, cmap='Reds')"
   ]
  },
  {
   "cell_type": "code",
   "execution_count": 32,
   "metadata": {},
   "outputs": [
    {
     "data": {
      "text/plain": [
       "<matplotlib.image.AxesImage at 0x1feae5c1b08>"
      ]
     },
     "execution_count": 32,
     "metadata": {},
     "output_type": "execute_result"
    },
    {
     "data": {
      "image/png": "[encoded data removed]",
      "text/plain": [
       "<Figure size 432x288 with 1 Axes>"
      ]
     },
     "metadata": {
      "needs_background": "light"
     },
     "output_type": "display_data"
    }
   ],
   "source": [
    "plt.subplot(1,1,1)\n",
    "plt.imshow(im_temp_g_4, cmap='Greens')"
   ]
  },
  {
   "cell_type": "code",
   "execution_count": 33,
   "metadata": {},
   "outputs": [
    {
     "data": {
      "text/plain": [
       "<matplotlib.image.AxesImage at 0x1feae65f1c8>"
      ]
     },
     "execution_count": 33,
     "metadata": {},
     "output_type": "execute_result"
    },
    {
     "data": {
      "image/png": "[encoded data removed]",
      "text/plain": [
       "<Figure size 432x288 with 2 Axes>"
      ]
     },
     "metadata": {
      "needs_background": "light"
     },
     "output_type": "display_data"
    }
   ],
   "source": [
    "plt.subplot(1,2,1)\n",
    "plt.imshow(im_temp_b_2, cmap='Blues')\n",
    "plt.subplot(1,2,2)\n",
    "plt.imshow(im_temp_b_4, cmap='Blues')"
   ]
  },
  {
   "cell_type": "markdown",
   "metadata": {},
   "source": [
    "## Reconstrói imagem demosaicada"
   ]
  },
  {
   "cell_type": "code",
   "execution_count": 34,
   "metadata": {},
   "outputs": [],
   "source": [
    "im_demosaic = np.zeros([im_bayer.shape[0], im_bayer.shape[1], 3], dtype=np.uint8)\n",
    "im_demosaic[:,:,0] = im_bayer_r\n",
    "im_demosaic[:,:,1] = im_bayer_g\n",
    "im_demosaic[:,:,2] = im_bayer_b"
   ]
  },
  {
   "cell_type": "code",
   "execution_count": 35,
   "metadata": {},
   "outputs": [
    {
     "data": {
      "text/plain": [
       "<matplotlib.image.AxesImage at 0x1feae6dfe48>"
      ]
     },
     "execution_count": 35,
     "metadata": {},
     "output_type": "execute_result"
    },
    {
     "data": {
      "image/png": "[encoded data removed]",
      "text/plain": [
       "<Figure size 432x288 with 1 Axes>"
      ]
     },
     "metadata": {
      "needs_background": "light"
     },
     "output_type": "display_data"
    }
   ],
   "source": [
    "plt.imshow(im_demosaic)"
   ]
  },
  {
   "cell_type": "code",
   "execution_count": 36,
   "metadata": {},
   "outputs": [],
   "source": [
    "# R -> G\n",
    "im_demosaic[1::2, 1::2, 1] = im_temp_g_4[1::2, 1::2]\n",
    "# R -> B\n",
    "im_demosaic[1::2, 1::2, 2] = im_temp_b_4[1::2, 1::2]\n",
    "\n",
    "# G -> R horizontal\n",
    "im_demosaic[1::2, 0::2, 0] = im_temp_r_2[1::2, 0::2]\n",
    "im_demosaic[0::2, 1::2, 0] = im_temp_r_2[0::2, 1::2]\n",
    "# G -> B\n",
    "im_demosaic[1::2, 0::2, 2] = im_temp_b_2[1::2, 0::2]\n",
    "im_demosaic[1::2, 1::2, 2] = im_temp_b_2[1::2, 1::2]\n",
    "\n",
    "# B -> R\n",
    "im_demosaic[::2, ::2, 0] = im_temp_r_4[::2, ::2]\n",
    "# B -> G\n",
    "im_demosaic[::2, ::2, 1] = im_temp_g_4[::2, ::2]"
   ]
  },
  {
   "cell_type": "code",
   "execution_count": 37,
   "metadata": {},
   "outputs": [
    {
     "data": {
      "text/plain": [
       "<matplotlib.image.AxesImage at 0x1feae74a308>"
      ]
     },
     "execution_count": 37,
     "metadata": {},
     "output_type": "execute_result"
    },
    {
     "data": {
      "image/png": "[encoded data removed]",
      "text/plain": [
       "<Figure size 432x288 with 1 Axes>"
      ]
     },
     "metadata": {
      "needs_background": "light"
     },
     "output_type": "display_data"
    }
   ],
   "source": [
    "plt.imshow(im_demosaic)"
   ]
  },
  {
   "cell_type": "code",
   "execution_count": 38,
   "metadata": {},
   "outputs": [
    {
     "name": "stdout",
     "output_type": "stream",
     "text": [
      "[[255 255 255 ... 255 255 255]\n",
      " [255 255 255 ... 255 255 255]\n",
      " [255 255 255 ... 255 255 255]\n",
      " ...\n",
      " [255 255 255 ... 255 255 255]\n",
      " [255 255 255 ... 255 255 255]\n",
      " [255 255 255 ... 255 255 255]]\n"
     ]
    }
   ],
   "source": [
    "print(im_demosaic[:,:,0])"
   ]
  },
  {
   "cell_type": "code",
   "execution_count": 39,
   "metadata": {},
   "outputs": [
    {
     "name": "stdout",
     "output_type": "stream",
     "text": [
      "[[255 255 255 ... 255 255 255]\n",
      " [255 255 255 ... 255 255 255]\n",
      " [255 255 255 ... 255 255 255]\n",
      " ...\n",
      " [255 255 255 ... 255 255 255]\n",
      " [255 255 255 ... 255 255 255]\n",
      " [255 255 255 ... 255 255 255]]\n"
     ]
    }
   ],
   "source": [
    "print(im_demosaic[:,:,1])"
   ]
  },
  {
   "cell_type": "code",
   "execution_count": 40,
   "metadata": {},
   "outputs": [
    {
     "name": "stdout",
     "output_type": "stream",
     "text": [
      "[[255   0 255 ...   0 255   0]\n",
      " [255 254 255 ... 254 255 254]\n",
      " [255   0 255 ...   0 255   0]\n",
      " ...\n",
      " [255 254 255 ... 254 255 254]\n",
      " [255   0 255 ...   0 255   0]\n",
      " [255 254 255 ... 254 255 254]]\n"
     ]
    }
   ],
   "source": [
    "print(im_demosaic[:,:,2])"
   ]
  }
 ],
 "metadata": {
  "kernelspec": {
   "display_name": "Python 3",
   "language": "python",
   "name": "python3"
  },
  "language_info": {
   "codemirror_mode": {
    "name": "ipython",
    "version": 3
   },
   "file_extension": ".py",
   "mimetype": "text/x-python",
   "name": "python",
   "nbconvert_exporter": "python",
   "pygments_lexer": "ipython3",
   "version": "3.8.5"
  }
 },
 "nbformat": 4,
 "nbformat_minor": 2
}
