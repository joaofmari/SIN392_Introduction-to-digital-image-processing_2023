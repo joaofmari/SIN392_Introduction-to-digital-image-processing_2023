{
 "cells": [
  {
   "cell_type": "markdown",
   "metadata": {},
   "source": [
    "# EXEMPLO - AQUISIÇÃO E AMOSTRAGEM"
   ]
  },
  {
   "cell_type": "markdown",
   "metadata": {},
   "source": [
    "## Importar as bibliotecas necessárias"
   ]
  },
  {
   "cell_type": "code",
   "execution_count": 1,
   "metadata": {},
   "outputs": [],
   "source": [
    "import os\n",
    "import imageio\n",
    "import numpy as np\n",
    "import matplotlib.pyplot as plt\n",
    "import PIL\n",
    "from PIL import Image\n",
    "from scipy import misc"
   ]
  },
  {
   "cell_type": "markdown",
   "metadata": {},
   "source": [
    "## Create output folder"
   ]
  },
  {
   "cell_type": "code",
   "execution_count": 2,
   "metadata": {},
   "outputs": [],
   "source": [
    "out_path = 'sampling'\n",
    "if not os.path.exists(out_path):\n",
    "    os.mkdir(out_path)"
   ]
  },
  {
   "cell_type": "markdown",
   "metadata": {},
   "source": [
    "## Carrega a imagem"
   ]
  },
  {
   "cell_type": "code",
   "execution_count": 3,
   "metadata": {},
   "outputs": [],
   "source": [
    "# im = imageio.imread('./images/arvore_800x800.png')\n",
    "im = imageio.imread('./images/arvore_02_512x512.png')"
   ]
  },
  {
   "cell_type": "markdown",
   "metadata": {},
   "source": [
    "Se a imagem for RGB, verificar se possui canal de transparência. Caso possua, remover o canal de transparência."
   ]
  },
  {
   "cell_type": "code",
   "execution_count": 4,
   "metadata": {},
   "outputs": [],
   "source": [
    "# Se imagem possui mais de três canais. Remover o canal de transparência.\n",
    "if im.ndim > 2:\n",
    "    if im.shape[2] > 3:\n",
    "        im = im[:,:,0:3]"
   ]
  },
  {
   "cell_type": "markdown",
   "metadata": {},
   "source": [
    "Imprime algumas informações sobre a imagem."
   ]
  },
  {
   "cell_type": "code",
   "execution_count": 5,
   "metadata": {},
   "outputs": [
    {
     "name": "stdout",
     "output_type": "stream",
     "text": [
      "(512, 512, 3)\n",
      "uint8\n",
      "0 255\n"
     ]
    }
   ],
   "source": [
    "print(im.shape)\n",
    "print(im.dtype)\n",
    "print(im.min(), im.max())"
   ]
  },
  {
   "cell_type": "markdown",
   "metadata": {},
   "source": [
    "Plota a imagem na tela."
   ]
  },
  {
   "cell_type": "code",
   "execution_count": 6,
   "metadata": {},
   "outputs": [
    {
     "data": {
      "text/plain": [
       "<matplotlib.image.AxesImage at 0x18b7b9770c8>"
      ]
     },
     "execution_count": 6,
     "metadata": {},
     "output_type": "execute_result"
    },
    {
     "data": {
      "image/png": "[encoded data removed]",
      "text/plain": [
       "<Figure size 432x288 with 1 Axes>"
      ]
     },
     "metadata": {
      "needs_background": "light"
     },
     "output_type": "display_data"
    }
   ],
   "source": [
    "plt.imshow(im)"
   ]
  },
  {
   "cell_type": "markdown",
   "metadata": {},
   "source": [
    "## Recorta a imagem em uma grade com 'num_cols' x 'num_rows'"
   ]
  },
  {
   "cell_type": "code",
   "execution_count": 7,
   "metadata": {},
   "outputs": [],
   "source": [
    "l = im.shape[0]//16\n",
    "w = im.shape[1]//16\n",
    "\n",
    "# Cria uma nova imagem em branco.\n",
    "im_new = np.zeros([16, 16, 3], dtype=np.uint8)\n",
    "\n",
    "c_i = 0 # Contador de linhas\n",
    "c_j = 0 # Contador de colunas\n",
    "\n",
    "for i in range(0, im.shape[0], l):\n",
    "    # TEST\n",
    "    ### print('--->' + str(i))\n",
    "    \n",
    "    for j in range(0, im.shape[1], w):\n",
    "        # TEST\n",
    "        ### print(i, j)\n",
    "        \n",
    "        im_temp = im[i:i+l, j:j+w, :]\n",
    "        \n",
    "        # Calcula a média dos pixels da região para cada canal.\n",
    "        im_new[c_i, c_j, 0] = im_temp[:,:,0].mean()\n",
    "        im_new[c_i, c_j, 1] = im_temp[:,:,1].mean()\n",
    "        im_new[c_i, c_j, 2] = im_temp[:,:,2].mean()\n",
    "        \n",
    "        # Incrementa a coluna\n",
    "        c_j = c_j + 1\n",
    "        \n",
    "    # Incrementa a linha\n",
    "    c_i = c_i + 1       \n",
    "    # Inicializa a coluna\n",
    "    c_j = 0"
   ]
  },
  {
   "cell_type": "code",
   "execution_count": 8,
   "metadata": {},
   "outputs": [
    {
     "name": "stdout",
     "output_type": "stream",
     "text": [
      "[[255 255 255 255 255 255 255 255 255 255 255 255 255 255 255 255]\n",
      " [255 255 255 255 255 255 255 252 252 255 255 255 255 255 255 255]\n",
      " [255 255 255 255 255 255 255 197 197 255 255 255 255 255 255 255]\n",
      " [255 255 255 255 255 255 231 142 142 230 255 255 255 255 255 255]\n",
      " [255 255 255 255 255 251 153 133 133 153 251 255 255 255 255 255]\n",
      " [255 255 255 255 255 184 123 123 123 123 184 255 255 255 255 255]\n",
      " [255 255 255 255 223 111 109 109 109 109 111 222 255 255 255 255]\n",
      " [255 255 255 249 118  92  92  92  92  92  92 117 249 255 255 255]\n",
      " [255 255 255 228 177 122  73  73  73  73 122 177 227 255 255 255]\n",
      " [255 255 255 255 231  65  53  53  53  53  65 231 255 255 255 255]\n",
      " [255 255 255 254  95  34  34  34  34  34  34  94 254 255 255 255]\n",
      " [255 255 255 211  97  97  78  50  50  78  97  97 210 255 255 255]\n",
      " [255 255 255 255 255 255 210 145 145 210 255 255 255 255 255 255]\n",
      " [255 255 255 255 255 255 204 131 131 204 255 255 255 255 255 255]\n",
      " [255 255 255 255 255 255 237 212 212 237 255 255 255 255 255 255]\n",
      " [255 255 255 255 255 255 255 255 255 255 255 255 255 255 255 255]]\n"
     ]
    }
   ],
   "source": [
    "# Canal R\n",
    "print(im_new[:,:,0])"
   ]
  },
  {
   "cell_type": "code",
   "execution_count": 9,
   "metadata": {},
   "outputs": [
    {
     "name": "stdout",
     "output_type": "stream",
     "text": [
      "[[255 255 255 255 255 255 255 255 255 255 255 255 255 255 255 255]\n",
      " [255 255 255 255 255 255 255 253 253 255 255 255 255 255 255 255]\n",
      " [255 255 255 255 255 255 255 230 229 255 255 255 255 255 255 255]\n",
      " [255 255 255 255 255 255 244 206 206 244 255 255 255 255 255 255]\n",
      " [255 255 255 255 255 253 211 202 202 211 253 255 255 255 255 255]\n",
      " [255 255 255 255 255 225 198 198 198 198 224 255 255 255 255 255]\n",
      " [255 255 255 255 241 194 193 193 193 193 194 241 255 255 255 255]\n",
      " [255 255 255 252 199 188 188 188 188 188 188 198 252 255 255 255]\n",
      " [255 255 255 244 224 202 183 183 183 183 202 224 244 255 255 255]\n",
      " [255 255 255 255 246 184 179 179 179 179 184 246 255 255 255 255]\n",
      " [255 255 255 254 199 177 177 177 177 177 177 198 254 255 255 255]\n",
      " [255 255 255 240 203 203 177 139 139 177 203 203 240 255 255 255]\n",
      " [255 255 255 255 255 255 190  95  95 190 255 255 255 255 255 255]\n",
      " [255 255 255 255 255 255 184  81  81 184 255 255 255 255 255 255]\n",
      " [255 255 255 255 255 255 232 198 198 232 255 255 255 255 255 255]\n",
      " [255 255 255 255 255 255 255 255 255 255 255 255 255 255 255 255]]\n"
     ]
    }
   ],
   "source": [
    "# Canal G\n",
    "print(im_new[:,:,1])"
   ]
  },
  {
   "cell_type": "code",
   "execution_count": 10,
   "metadata": {},
   "outputs": [
    {
     "name": "stdout",
     "output_type": "stream",
     "text": [
      "[[255 255 255 255 255 255 255 255 255 255 255 255 255 255 255 255]\n",
      " [255 255 255 255 255 255 255 250 250 255 255 255 255 255 255 255]\n",
      " [255 255 255 255 255 255 255 164 163 255 255 255 255 255 255 255]\n",
      " [255 255 255 255 255 255 219  82  82 218 255 255 255 255 255 255]\n",
      " [255 255 255 255 255 250 109  80  80 109 249 255 255 255 255 255]\n",
      " [255 255 255 255 255 162  80  80  80  80 161 255 255 255 255 255]\n",
      " [255 255 255 255 217  82  80  80  80  80  82 217 255 255 255 255]\n",
      " [255 255 255 249 108  80  80  80  80  80  80 108 249 255 255 255]\n",
      " [255 255 255 228 178 126  80  80  80  80 126 178 227 255 255 255]\n",
      " [255 255 255 255 235  90  80  80  80  80  90 235 255 255 255 255]\n",
      " [255 255 255 254 129  80  80  80  80  80  80 128 254 255 255 255]\n",
      " [255 255 255 223 140 140 108  62  62 108 140 140 222 255 255 255]\n",
      " [255 255 255 255 255 255 170  46  46 170 255 255 255 255 255 255]\n",
      " [255 255 255 255 255 255 166  36  36 166 255 255 255 255 255 255]\n",
      " [255 255 255 255 255 255 226 185 185 226 255 255 255 255 255 255]\n",
      " [255 255 255 255 255 255 255 255 255 255 255 255 255 255 255 255]]\n"
     ]
    }
   ],
   "source": [
    "# Canal B\n",
    "print(im_new[:,:,2])"
   ]
  },
  {
   "cell_type": "code",
   "execution_count": 16,
   "metadata": {},
   "outputs": [
    {
     "data": {
      "text/plain": [
       "<matplotlib.image.AxesImage at 0x18b7f239848>"
      ]
     },
     "execution_count": 16,
     "metadata": {},
     "output_type": "execute_result"
    },
    {
     "data": {
      "image/png": "[encoded data removed]",
      "text/plain": [
       "<Figure size 432x288 with 1 Axes>"
      ]
     },
     "metadata": {
      "needs_background": "light"
     },
     "output_type": "display_data"
    }
   ],
   "source": [
    "plt.imshow(im_new)"
   ]
  },
  {
   "cell_type": "markdown",
   "metadata": {},
   "source": [
    "## Interpola as imagens usando vizinhos mais próximos"
   ]
  },
  {
   "cell_type": "code",
   "execution_count": 12,
   "metadata": {},
   "outputs": [],
   "source": [
    "im_new_ok = np.array(Image.fromarray(im_new).resize(size=(512, 512), resample=PIL.Image.NEAREST))"
   ]
  },
  {
   "cell_type": "code",
   "execution_count": 13,
   "metadata": {},
   "outputs": [
    {
     "name": "stdout",
     "output_type": "stream",
     "text": [
      "uint8\n",
      "(800, 800, 3)\n"
     ]
    }
   ],
   "source": [
    "print(im_new_ok.dtype)\n",
    "print(im_new_ok.shape)"
   ]
  },
  {
   "cell_type": "code",
   "execution_count": 14,
   "metadata": {},
   "outputs": [
    {
     "data": {
      "text/plain": [
       "<matplotlib.image.AxesImage at 0x18b7efff988>"
      ]
     },
     "execution_count": 14,
     "metadata": {},
     "output_type": "execute_result"
    },
    {
     "data": {
      "image/png": "[encoded data removed]",
      "text/plain": [
       "<Figure size 432x288 with 1 Axes>"
      ]
     },
     "metadata": {
      "needs_background": "light"
     },
     "output_type": "display_data"
    }
   ],
   "source": [
    "plt.imshow(im_new_ok)"
   ]
  },
  {
   "cell_type": "code",
   "execution_count": null,
   "metadata": {},
   "outputs": [],
   "source": []
  },
  {
   "cell_type": "code",
   "execution_count": null,
   "metadata": {},
   "outputs": [],
   "source": []
  },
  {
   "cell_type": "code",
   "execution_count": 15,
   "metadata": {},
   "outputs": [],
   "source": [
    "# Salva as imagens em arquivo.\n",
    "imageio.imsave(out_path + '/' + 'arvore_512x512.png', im)\n",
    "imageio.imsave(out_path + '/' + 'arvore_16x16.png', im_new)\n",
    "imageio.imsave(out_path + '/' + 'arvore_512x512_ok.png', im_new_ok)"
   ]
  },
  {
   "cell_type": "code",
   "execution_count": null,
   "metadata": {},
   "outputs": [],
   "source": []
  },
  {
   "cell_type": "code",
   "execution_count": null,
   "metadata": {},
   "outputs": [],
   "source": []
  }
 ],
 "metadata": {
  "kernelspec": {
   "display_name": "Python 3",
   "language": "python",
   "name": "python3"
  },
  "language_info": {
   "codemirror_mode": {
    "name": "ipython",
    "version": 3
   },
   "file_extension": ".py",
   "mimetype": "text/x-python",
   "name": "python",
   "nbconvert_exporter": "python",
   "pygments_lexer": "ipython3",
   "version": "3.8.5"
  }
 },
 "nbformat": 4,
 "nbformat_minor": 2
}
