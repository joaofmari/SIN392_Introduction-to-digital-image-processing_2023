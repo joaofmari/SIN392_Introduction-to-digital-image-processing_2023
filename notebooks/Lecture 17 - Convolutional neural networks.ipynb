{
 "cells": [
  {
   "cell_type": "markdown",
   "metadata": {
    "id": "NWDgQg4gEEsQ"
   },
   "source": [
    "SIN-392 - Introduction to Digital Image Processing (2022-1)\n",
    "\n",
    "# Lecture 17 - Convolutional neural networks\n",
    "\n",
    "Prof. João Fernando Mari ([*joaofmari.github.io*](https://joaofmari.github.io/))\n",
    "\n",
    "---"
   ]
  },
  {
   "cell_type": "markdown",
   "metadata": {},
   "source": [
    "* Para executar utilizando uma GPU usando o Google Colab.\n",
    "* Habilite a GPU no meu Editar>Configurações de Notebook selecionando a opção GPU em Aceleração de hardware."
   ]
  },
  {
   "cell_type": "markdown",
   "metadata": {
    "id": "USgdhCJFEIMk"
   },
   "source": [
    "## Importing the libraries\n",
    "---"
   ]
  },
  {
   "cell_type": "code",
   "execution_count": null,
   "metadata": {
    "id": "UuchvWHTEEgS"
   },
   "outputs": [],
   "source": [
    "import numpy as np\n",
    "import matplotlib.pyplot as plt\n",
    "\n",
    "import torch\n",
    "import torch.nn as nn\n",
    "import torch.nn.functional as F\n",
    "import torch.optim as optim\n",
    "\n",
    "import torchvision\n",
    "import torchvision.transforms as transforms\n",
    "\n",
    "%matplotlib notebook"
   ]
  },
  {
   "cell_type": "markdown",
   "metadata": {
    "id": "sB-0Nzd3EOJG"
   },
   "source": [
    "# Configurações para reprodutibilidade\n",
    "---"
   ]
  },
  {
   "cell_type": "code",
   "execution_count": null,
   "metadata": {
    "id": "90OsSHAiENua"
   },
   "outputs": [],
   "source": [
    "np.random.seed(1234)"
   ]
  },
  {
   "cell_type": "markdown",
   "metadata": {
    "id": "Sf5oH4sWXyQ0"
   },
   "source": [
    "## Configurações para GPU\n",
    "---"
   ]
  },
  {
   "cell_type": "code",
   "execution_count": null,
   "metadata": {
    "colab": {
     "base_uri": "https://localhost:8080/"
    },
    "id": "t_HbSNIOXymc",
    "outputId": "0a6cdb1f-c301-4e26-fdee-637a730aab0f"
   },
   "outputs": [
    {
     "name": "stdout",
     "output_type": "stream",
     "text": [
      "cuda:0\n"
     ]
    }
   ],
   "source": [
    "device = torch.device('cuda:0' if torch.cuda.is_available() else 'cpu')\n",
    "\n",
    "# Assuming that we are on a CUDA machine, this should print a CUDA device:\n",
    "print(device)"
   ]
  },
  {
   "cell_type": "markdown",
   "metadata": {
    "id": "t_ImmM_XFg9-"
   },
   "source": [
    "# Definimos alguns hiperparâmetros\n",
    "---"
   ]
  },
  {
   "cell_type": "code",
   "execution_count": null,
   "metadata": {
    "id": "qAwdV_7UFloP"
   },
   "outputs": [],
   "source": [
    "# Tamanho do lote (mini-batch)\n",
    "batch_size = 4\n",
    "\n",
    "# Nomes das classes (labels)\n",
    "classes = ('plane', 'car', 'bird', 'cat', 'deer', 'dog', 'frog', 'horse', 'ship', 'truck')"
   ]
  },
  {
   "cell_type": "markdown",
   "metadata": {
    "id": "ludh3aXIEUM2"
   },
   "source": [
    "# O conjunto de dados\n",
    "---"
   ]
  },
  {
   "cell_type": "code",
   "execution_count": null,
   "metadata": {
    "colab": {
     "base_uri": "https://localhost:8080/",
     "height": 219,
     "referenced_widgets": [
      "5662089c616f4da8821d1d5415318caa",
      "49d568df48b34ea4bad1da564fb1db82",
      "eed0622c437c4696a330623a71ef8613",
      "74b27865b71a4e3b81f9678e7e39adc4",
      "00e5200a640d406290ae37713170416f",
      "d4b7cfd8885d4478a227b65a59f9a46d",
      "79c6fbdc82b24bb883f54d32d6888739",
      "2073a8452e254237bfa54f4b549805ae",
      "9f2b45e91ed649dfbcb00d827d640be4",
      "f15984c3c7e443b4bdf0054b6e5d8e80",
      "554d82127b5640569852122c841d651d"
     ]
    },
    "id": "L9eT6nTuD7CX",
    "outputId": "175cbd0d-a713-42fd-a42a-b031c4a63bf0"
   },
   "outputs": [
    {
     "name": "stdout",
     "output_type": "stream",
     "text": [
      "Downloading https://www.cs.toronto.edu/~kriz/cifar-10-python.tar.gz to ./data/cifar-10-python.tar.gz\n"
     ]
    },
    {
     "data": {
      "application/vnd.jupyter.widget-view+json": {
       "model_id": "5662089c616f4da8821d1d5415318caa",
       "version_major": 2,
       "version_minor": 0
      },
      "text/plain": [
       "  0%|          | 0/170498071 [00:00<?, ?it/s]"
      ]
     },
     "metadata": {},
     "output_type": "display_data"
    },
    {
     "name": "stdout",
     "output_type": "stream",
     "text": [
      "Extracting ./data/cifar-10-python.tar.gz to ./data\n",
      "Files already downloaded and verified\n",
      "50000\n",
      "10000\n",
      "40000\n",
      "10000\n"
     ]
    }
   ],
   "source": [
    "# Define uma sequencia de transformações que serão aplicadas sobre as imagens dos datasets\n",
    "# O primeiro (0.5, 0.5, 0.5) são as médias dos canais RGB e o segundo são os desvios padrões.\n",
    "transform = transforms.Compose([transforms.ToTensor(),\n",
    "                                transforms.Normalize((0.5, 0.5, 0.5), (0.5, 0.5, 0.5))])\n",
    "\n",
    "# Datasets\n",
    "# --------\n",
    "# Conjunto de treinamento\n",
    "dataset_train = torchvision.datasets.CIFAR10(root='./data', train=True,\n",
    "                                                download=True, transform=transform)\n",
    "# Conjunto de testes\n",
    "dataset_test = torchvision.datasets.CIFAR10(root='./data', train=False,\n",
    "                                            download=True, transform=transform)\n",
    "    \n",
    "# Número de imagens no conjunto de treinamento\n",
    "print(len(dataset_train))\n",
    "# Número de imagens no conjunto de testes\n",
    "print(len(dataset_test))\n",
    "\n",
    "# Vamos separar 20% do conjunto de treinamento para validação\n",
    "dataset_train, dataset_val = torch.utils.data.random_split(dataset_train, [int(len(dataset_train) * 0.8), int(len(dataset_train) * 0.2) ])\n",
    "\n",
    "# Número de imagens no conjunto de treinamento\n",
    "print(len(dataset_train))\n",
    "# Número de imagens no conjunto de validação\n",
    "print(len(dataset_val))\n",
    "\n",
    "# Dataloaders\n",
    "# -----------\n",
    "# Conjunto de treinamento\n",
    "dataloader_train = torch.utils.data.DataLoader(dataset_train, batch_size=batch_size,\n",
    "                                               shuffle=True, num_workers=2)\n",
    "\n",
    "# Conjunto de validação\n",
    "dataloader_val = torch.utils.data.DataLoader(dataset_val, batch_size=batch_size,\n",
    "                                               shuffle=True, num_workers=2)\n",
    "# Conjunto de testes\n",
    "dataloader_test = torch.utils.data.DataLoader(dataset_test, batch_size=batch_size,\n",
    "                                              shuffle=False, num_workers=2)"
   ]
  },
  {
   "cell_type": "markdown",
   "metadata": {
    "id": "3H7uaVAuKUCj"
   },
   "source": [
    "## Definindo uma Rede Neural Convolucional simples\n",
    "---"
   ]
  },
  {
   "cell_type": "code",
   "execution_count": null,
   "metadata": {
    "id": "UvGNEx8vKUp6"
   },
   "outputs": [],
   "source": [
    "class Net(nn.Module):\n",
    "    def __init__(self, in_channels, num_classes):\n",
    "        super().__init__()\n",
    "        self.conv1 = nn.Conv2d(in_channels, 6, 5)\n",
    "        self.pool = nn.MaxPool2d(2, 2)\n",
    "        self.conv2 = nn.Conv2d(6, 16, 5)\n",
    "        self.fc1 = nn.Linear(16 * 5 * 5, 120)\n",
    "        self.fc2 = nn.Linear(120, 84)\n",
    "        self.fc3 = nn.Linear(84, num_classes)\n",
    "\n",
    "    def forward(self, x):\n",
    "        x = self.pool(F.relu(self.conv1(x)))\n",
    "        x = self.pool(F.relu(self.conv2(x)))\n",
    "        x = torch.flatten(x, 1) # flatten all dimensions except batch\n",
    "        x = F.relu(self.fc1(x))\n",
    "        x = F.relu(self.fc2(x))\n",
    "        x = self.fc3(x)\n",
    "        return x"
   ]
  },
  {
   "cell_type": "code",
   "execution_count": null,
   "metadata": {
    "colab": {
     "base_uri": "https://localhost:8080/"
    },
    "id": "SLZ57edjKnwO",
    "outputId": "135075d3-9ec4-4562-a80f-1564378b7f88"
   },
   "outputs": [
    {
     "name": "stdout",
     "output_type": "stream",
     "text": [
      "Net(\n",
      "  (conv1): Conv2d(3, 6, kernel_size=(5, 5), stride=(1, 1))\n",
      "  (pool): MaxPool2d(kernel_size=2, stride=2, padding=0, dilation=1, ceil_mode=False)\n",
      "  (conv2): Conv2d(6, 16, kernel_size=(5, 5), stride=(1, 1))\n",
      "  (fc1): Linear(in_features=400, out_features=120, bias=True)\n",
      "  (fc2): Linear(in_features=120, out_features=84, bias=True)\n",
      "  (fc3): Linear(in_features=84, out_features=10, bias=True)\n",
      ")\n"
     ]
    }
   ],
   "source": [
    "net = Net(3, 10)\n",
    "    \n",
    "print(net)\n",
    "\n",
    "# Envia o modelo para a GPU\n",
    "net = net.to(device)"
   ]
  },
  {
   "cell_type": "markdown",
   "metadata": {
    "id": "p-1WlZKrKtnC"
   },
   "source": [
    "## Definindo uma função de perda e um otimizador\n",
    "---"
   ]
  },
  {
   "cell_type": "code",
   "execution_count": null,
   "metadata": {
    "id": "_iQ65_ebKYah"
   },
   "outputs": [],
   "source": [
    "## Função \n",
    "criterion = nn.CrossEntropyLoss()\n",
    "\n",
    "# Otimizador\n",
    "optimizer = optim.SGD(net.parameters(), lr=0.001, momentum=0.9)"
   ]
  },
  {
   "cell_type": "markdown",
   "metadata": {
    "id": "-7pS-uPaOPlE"
   },
   "source": [
    "## Treinando o modelo\n",
    "---"
   ]
  },
  {
   "cell_type": "code",
   "execution_count": null,
   "metadata": {
    "colab": {
     "base_uri": "https://localhost:8080/"
    },
    "id": "yOcN3l3oOP5_",
    "outputId": "1ee10456-0566-4872-c8a8-24504c371fd4"
   },
   "outputs": [
    {
     "name": "stdout",
     "output_type": "stream",
     "text": [
      "Epoca 0: Train Loss: 1.759 \t Val. Loss: 1.571\n",
      "Epoca 1: Train Loss: 1.418 \t Val. Loss: 1.360\n",
      "Epoca 2: Train Loss: 1.285 \t Val. Loss: 1.244\n",
      "Epoca 3: Train Loss: 1.191 \t Val. Loss: 1.222\n",
      "Epoca 4: Train Loss: 1.111 \t Val. Loss: 1.173\n",
      "Epoca 5: Train Loss: 1.046 \t Val. Loss: 1.146\n",
      "Epoca 6: Train Loss: 0.991 \t Val. Loss: 1.161\n",
      "Epoca 7: Train Loss: 0.938 \t Val. Loss: 1.202\n",
      "Epoca 8: Train Loss: 0.904 \t Val. Loss: 1.172\n",
      "Epoca 9: Train Loss: 0.869 \t Val. Loss: 1.157\n",
      "Treinamento finalizado\n"
     ]
    }
   ],
   "source": [
    "for epoch in range(10):  # loop over the dataset multiple times\n",
    "\n",
    "    # Treino\n",
    "    # ------\n",
    "    # Modo de treinamento\n",
    "    net.train()\n",
    "\n",
    "    # Inicializa a perda do treino\n",
    "    train_loss = 0.0\n",
    "    \n",
    "    for inputs, labels in dataloader_train:\n",
    "        # Envia inouts e labels para a GPU\n",
    "        inputs = inputs.to(device)\n",
    "        labels = labels.to(device)\n",
    "\n",
    "        # zero the parameter gradients\n",
    "        optimizer.zero_grad()\n",
    "\n",
    "        # Desabilita o calculo do gradiente\n",
    "        torch.set_grad_enabled(True) \n",
    "\n",
    "        # Forward \n",
    "        outputs = net(inputs)\n",
    "\n",
    "        # Calcula a perda\n",
    "        loss = criterion(outputs, labels)\n",
    "\n",
    "        # Backward\n",
    "        loss.backward()\n",
    "\n",
    "        # Atualiza os pesos\n",
    "        optimizer.step()\n",
    "\n",
    "        # Atualiza a perda do treino\n",
    "        train_loss += loss.item() * inputs.size(0)\n",
    "\n",
    "    # Perda da época\n",
    "    train_loss = train_loss / len(dataset_train)\n",
    "\n",
    "    # Validação\n",
    "    # ---------\n",
    "    # Modo de avaliação\n",
    "    net.eval()\n",
    "\n",
    "    # Inicializa a perda da validação\n",
    "    val_loss = 0.0\n",
    "\n",
    "    for inputs, labels in dataloader_val:\n",
    "        # Envia inouts e labels para a GPU\n",
    "        inputs = inputs.to(device)\n",
    "        labels = labels.to(device)\n",
    "\n",
    "        # zero the parameter gradients\n",
    "        optimizer.zero_grad()\n",
    "\n",
    "        # Desabilita o calculo do gradiente\n",
    "        torch.set_grad_enabled(False) \n",
    "\n",
    "        # forward + backward \n",
    "        outputs = net(inputs)\n",
    "\n",
    "        # Calcula a perda\n",
    "        loss = criterion(outputs, labels)\n",
    "\n",
    "        # Atualiza a perda da validação\n",
    "        val_loss += loss.item() * inputs.size(0)\n",
    "\n",
    "    # Perda da validação\n",
    "    val_loss = val_loss / len(dataset_val)\n",
    "\n",
    "    # Imprime as perdas de cada época\n",
    "    print(f'Epoca {epoch}: Train Loss: {train_loss:.3f} \\t Val. Loss: {val_loss:.3f}')\n",
    "\n",
    "print('Treinamento finalizado')"
   ]
  },
  {
   "cell_type": "markdown",
   "metadata": {
    "id": "VYLqxTG_OeSn"
   },
   "source": [
    "## Testando o modelo\n",
    "---"
   ]
  },
  {
   "cell_type": "code",
   "execution_count": null,
   "metadata": {
    "colab": {
     "base_uri": "https://localhost:8080/"
    },
    "id": "3a0FtXanOem_",
    "outputId": "81c9b455-5753-4fae-8b06-46521fd144d5"
   },
   "outputs": [
    {
     "name": "stdout",
     "output_type": "stream",
     "text": [
      "Acurácia: 0.6123\n",
      "Acurácia do conjunto de testes: 61 %\n"
     ]
    }
   ],
   "source": [
    "correct = 0\n",
    "total = 0\n",
    "\n",
    "# since we're not training, we don't need to calculate the gradients for our outputs\n",
    "with torch.no_grad():\n",
    "    for inputs, labels in dataloader_test:\n",
    "\n",
    "        # Envia inouts e labels para a GPU\n",
    "        inputs = inputs.to(device)\n",
    "        labels = labels.to(device)\n",
    "\n",
    "        # calculate outputs by running images through the network\n",
    "        outputs = net(inputs)\n",
    "\n",
    "        # the class with the highest energy is what we choose as prediction\n",
    "        predicted = torch.argmax(outputs.data, dim=1)\n",
    "        total += labels.size(0)\n",
    "        correct += (predicted == labels).sum().item()\n",
    "\n",
    "    # Acurácia\n",
    "    accuracy = correct / len(dataset_test)\n",
    "\n",
    "    print(f'Acurácia: {accuracy}')\n",
    "\n",
    "print(f'Acurácia do conjunto de testes: {100 * correct // total} %')"
   ]
  },
  {
   "cell_type": "markdown",
   "metadata": {
    "id": "gU_5PRU7OeQK"
   },
   "source": [
    "## Bibliografia\n",
    "---\n",
    "* PyTorch. Training a Classifier\n",
    "    * https://pytorch.org/tutorials/beginner/blitz/cifar10_tutorial.html\n",
    "* Nathan Inkawhich. FINETUNING TORCHVISION MODELS. \n",
    "    * Disponível em: https://pytorch.org/tutorials/beginner/finetuning_torchvision_models_tutorial.html\n",
    "* \n",
    "    * https://pytorch.org/tutorials/beginner/blitz/neural_networks_tutorial.html"
   ]
  }
 ],
 "metadata": {
  "accelerator": "GPU",
  "colab": {
   "collapsed_sections": [],
   "name": "Aula 17 - Redes Neurais Convolucionais.ipynb",
   "provenance": []
  },
  "gpuClass": "standard",
  "hide_input": false,
  "kernelspec": {
   "display_name": "Python 3",
   "language": "python",
   "name": "python3"
  },
  "language_info": {
   "codemirror_mode": {
    "name": "ipython",
    "version": 3
   },
   "file_extension": ".py",
   "mimetype": "text/x-python",
   "name": "python",
   "nbconvert_exporter": "python",
   "pygments_lexer": "ipython3",
   "version": "3.8.5"
  },
  "toc": {
   "base_numbering": 1,
   "nav_menu": {},
   "number_sections": true,
   "sideBar": true,
   "skip_h1_title": true,
   "title_cell": "Table of Contents",
   "title_sidebar": "Contents",
   "toc_cell": false,
   "toc_position": {},
   "toc_section_display": true,
   "toc_window_display": true
  },
  "widgets": {
   "application/vnd.jupyter.widget-state+json": {
    "00e5200a640d406290ae37713170416f": {
     "model_module": "@jupyter-widgets/base",
     "model_module_version": "1.2.0",
     "model_name": "LayoutModel",
     "state": {
      "_model_module": "@jupyter-widgets/base",
      "_model_module_version": "1.2.0",
      "_model_name": "LayoutModel",
      "_view_count": null,
      "_view_module": "@jupyter-widgets/base",
      "_view_module_version": "1.2.0",
      "_view_name": "LayoutView",
      "align_content": null,
      "align_items": null,
      "align_self": null,
      "border": null,
      "bottom": null,
      "display": null,
      "flex": null,
      "flex_flow": null,
      "grid_area": null,
      "grid_auto_columns": null,
      "grid_auto_flow": null,
      "grid_auto_rows": null,
      "grid_column": null,
      "grid_gap": null,
      "grid_row": null,
      "grid_template_areas": null,
      "grid_template_columns": null,
      "grid_template_rows": null,
      "height": null,
      "justify_content": null,
      "justify_items": null,
      "left": null,
      "margin": null,
      "max_height": null,
      "max_width": null,
      "min_height": null,
      "min_width": null,
      "object_fit": null,
      "object_position": null,
      "order": null,
      "overflow": null,
      "overflow_x": null,
      "overflow_y": null,
      "padding": null,
      "right": null,
      "top": null,
      "visibility": null,
      "width": null
     }
    },
    "2073a8452e254237bfa54f4b549805ae": {
     "model_module": "@jupyter-widgets/base",
     "model_module_version": "1.2.0",
     "model_name": "LayoutModel",
     "state": {
      "_model_module": "@jupyter-widgets/base",
      "_model_module_version": "1.2.0",
      "_model_name": "LayoutModel",
      "_view_count": null,
      "_view_module": "@jupyter-widgets/base",
      "_view_module_version": "1.2.0",
      "_view_name": "LayoutView",
      "align_content": null,
      "align_items": null,
      "align_self": null,
      "border": null,
      "bottom": null,
      "display": null,
      "flex": null,
      "flex_flow": null,
      "grid_area": null,
      "grid_auto_columns": null,
      "grid_auto_flow": null,
      "grid_auto_rows": null,
      "grid_column": null,
      "grid_gap": null,
      "grid_row": null,
      "grid_template_areas": null,
      "grid_template_columns": null,
      "grid_template_rows": null,
      "height": null,
      "justify_content": null,
      "justify_items": null,
      "left": null,
      "margin": null,
      "max_height": null,
      "max_width": null,
      "min_height": null,
      "min_width": null,
      "object_fit": null,
      "object_position": null,
      "order": null,
      "overflow": null,
      "overflow_x": null,
      "overflow_y": null,
      "padding": null,
      "right": null,
      "top": null,
      "visibility": null,
      "width": null
     }
    },
    "49d568df48b34ea4bad1da564fb1db82": {
     "model_module": "@jupyter-widgets/controls",
     "model_module_version": "1.5.0",
     "model_name": "HTMLModel",
     "state": {
      "_dom_classes": [],
      "_model_module": "@jupyter-widgets/controls",
      "_model_module_version": "1.5.0",
      "_model_name": "HTMLModel",
      "_view_count": null,
      "_view_module": "@jupyter-widgets/controls",
      "_view_module_version": "1.5.0",
      "_view_name": "HTMLView",
      "description": "",
      "description_tooltip": null,
      "layout": "IPY_MODEL_d4b7cfd8885d4478a227b65a59f9a46d",
      "placeholder": "​",
      "style": "IPY_MODEL_79c6fbdc82b24bb883f54d32d6888739",
      "value": "100%"
     }
    },
    "554d82127b5640569852122c841d651d": {
     "model_module": "@jupyter-widgets/controls",
     "model_module_version": "1.5.0",
     "model_name": "DescriptionStyleModel",
     "state": {
      "_model_module": "@jupyter-widgets/controls",
      "_model_module_version": "1.5.0",
      "_model_name": "DescriptionStyleModel",
      "_view_count": null,
      "_view_module": "@jupyter-widgets/base",
      "_view_module_version": "1.2.0",
      "_view_name": "StyleView",
      "description_width": ""
     }
    },
    "5662089c616f4da8821d1d5415318caa": {
     "model_module": "@jupyter-widgets/controls",
     "model_module_version": "1.5.0",
     "model_name": "HBoxModel",
     "state": {
      "_dom_classes": [],
      "_model_module": "@jupyter-widgets/controls",
      "_model_module_version": "1.5.0",
      "_model_name": "HBoxModel",
      "_view_count": null,
      "_view_module": "@jupyter-widgets/controls",
      "_view_module_version": "1.5.0",
      "_view_name": "HBoxView",
      "box_style": "",
      "children": [
       "IPY_MODEL_49d568df48b34ea4bad1da564fb1db82",
       "IPY_MODEL_eed0622c437c4696a330623a71ef8613",
       "IPY_MODEL_74b27865b71a4e3b81f9678e7e39adc4"
      ],
      "layout": "IPY_MODEL_00e5200a640d406290ae37713170416f"
     }
    },
    "74b27865b71a4e3b81f9678e7e39adc4": {
     "model_module": "@jupyter-widgets/controls",
     "model_module_version": "1.5.0",
     "model_name": "HTMLModel",
     "state": {
      "_dom_classes": [],
      "_model_module": "@jupyter-widgets/controls",
      "_model_module_version": "1.5.0",
      "_model_name": "HTMLModel",
      "_view_count": null,
      "_view_module": "@jupyter-widgets/controls",
      "_view_module_version": "1.5.0",
      "_view_name": "HTMLView",
      "description": "",
      "description_tooltip": null,
      "layout": "IPY_MODEL_f15984c3c7e443b4bdf0054b6e5d8e80",
      "placeholder": "​",
      "style": "IPY_MODEL_554d82127b5640569852122c841d651d",
      "value": " 170498071/170498071 [00:09&lt;00:00, 43201418.47it/s]"
     }
    },
    "79c6fbdc82b24bb883f54d32d6888739": {
     "model_module": "@jupyter-widgets/controls",
     "model_module_version": "1.5.0",
     "model_name": "DescriptionStyleModel",
     "state": {
      "_model_module": "@jupyter-widgets/controls",
      "_model_module_version": "1.5.0",
      "_model_name": "DescriptionStyleModel",
      "_view_count": null,
      "_view_module": "@jupyter-widgets/base",
      "_view_module_version": "1.2.0",
      "_view_name": "StyleView",
      "description_width": ""
     }
    },
    "9f2b45e91ed649dfbcb00d827d640be4": {
     "model_module": "@jupyter-widgets/controls",
     "model_module_version": "1.5.0",
     "model_name": "ProgressStyleModel",
     "state": {
      "_model_module": "@jupyter-widgets/controls",
      "_model_module_version": "1.5.0",
      "_model_name": "ProgressStyleModel",
      "_view_count": null,
      "_view_module": "@jupyter-widgets/base",
      "_view_module_version": "1.2.0",
      "_view_name": "StyleView",
      "bar_color": null,
      "description_width": ""
     }
    },
    "d4b7cfd8885d4478a227b65a59f9a46d": {
     "model_module": "@jupyter-widgets/base",
     "model_module_version": "1.2.0",
     "model_name": "LayoutModel",
     "state": {
      "_model_module": "@jupyter-widgets/base",
      "_model_module_version": "1.2.0",
      "_model_name": "LayoutModel",
      "_view_count": null,
      "_view_module": "@jupyter-widgets/base",
      "_view_module_version": "1.2.0",
      "_view_name": "LayoutView",
      "align_content": null,
      "align_items": null,
      "align_self": null,
      "border": null,
      "bottom": null,
      "display": null,
      "flex": null,
      "flex_flow": null,
      "grid_area": null,
      "grid_auto_columns": null,
      "grid_auto_flow": null,
      "grid_auto_rows": null,
      "grid_column": null,
      "grid_gap": null,
      "grid_row": null,
      "grid_template_areas": null,
      "grid_template_columns": null,
      "grid_template_rows": null,
      "height": null,
      "justify_content": null,
      "justify_items": null,
      "left": null,
      "margin": null,
      "max_height": null,
      "max_width": null,
      "min_height": null,
      "min_width": null,
      "object_fit": null,
      "object_position": null,
      "order": null,
      "overflow": null,
      "overflow_x": null,
      "overflow_y": null,
      "padding": null,
      "right": null,
      "top": null,
      "visibility": null,
      "width": null
     }
    },
    "eed0622c437c4696a330623a71ef8613": {
     "model_module": "@jupyter-widgets/controls",
     "model_module_version": "1.5.0",
     "model_name": "FloatProgressModel",
     "state": {
      "_dom_classes": [],
      "_model_module": "@jupyter-widgets/controls",
      "_model_module_version": "1.5.0",
      "_model_name": "FloatProgressModel",
      "_view_count": null,
      "_view_module": "@jupyter-widgets/controls",
      "_view_module_version": "1.5.0",
      "_view_name": "ProgressView",
      "bar_style": "success",
      "description": "",
      "description_tooltip": null,
      "layout": "IPY_MODEL_2073a8452e254237bfa54f4b549805ae",
      "max": 170498071,
      "min": 0,
      "orientation": "horizontal",
      "style": "IPY_MODEL_9f2b45e91ed649dfbcb00d827d640be4",
      "value": 170498071
     }
    },
    "f15984c3c7e443b4bdf0054b6e5d8e80": {
     "model_module": "@jupyter-widgets/base",
     "model_module_version": "1.2.0",
     "model_name": "LayoutModel",
     "state": {
      "_model_module": "@jupyter-widgets/base",
      "_model_module_version": "1.2.0",
      "_model_name": "LayoutModel",
      "_view_count": null,
      "_view_module": "@jupyter-widgets/base",
      "_view_module_version": "1.2.0",
      "_view_name": "LayoutView",
      "align_content": null,
      "align_items": null,
      "align_self": null,
      "border": null,
      "bottom": null,
      "display": null,
      "flex": null,
      "flex_flow": null,
      "grid_area": null,
      "grid_auto_columns": null,
      "grid_auto_flow": null,
      "grid_auto_rows": null,
      "grid_column": null,
      "grid_gap": null,
      "grid_row": null,
      "grid_template_areas": null,
      "grid_template_columns": null,
      "grid_template_rows": null,
      "height": null,
      "justify_content": null,
      "justify_items": null,
      "left": null,
      "margin": null,
      "max_height": null,
      "max_width": null,
      "min_height": null,
      "min_width": null,
      "object_fit": null,
      "object_position": null,
      "order": null,
      "overflow": null,
      "overflow_x": null,
      "overflow_y": null,
      "padding": null,
      "right": null,
      "top": null,
      "visibility": null,
      "width": null
     }
    }
   }
  }
 },
 "nbformat": 4,
 "nbformat_minor": 1
}
