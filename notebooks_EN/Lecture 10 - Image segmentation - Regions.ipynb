{
 "cells": [
  {
   "cell_type": "markdown",
   "metadata": {},
   "source": [
    "SIN-392 - Introduction to Digital Image Processing (2023-1)\n",
    "\n",
    "# Lecture 10 - Image segmentation - Regions\n",
    "\n",
    "Prof. João Fernando Mari ([*joaofmari.github.io*](https://joaofmari.github.io/))\n",
    "\n",
    "---"
   ]
  },
  {
   "cell_type": "markdown",
   "metadata": {},
   "source": [
    "## Importing the libraries"
   ]
  },
  {
   "cell_type": "code",
   "execution_count": 1,
   "metadata": {},
   "outputs": [],
   "source": [
    "import numpy as np\n",
    "\n",
    "from scipy import ndimage as ndi\n",
    "from skimage import color, util, feature, morphology, data, filters\n",
    "\n",
    "import matplotlib.pyplot as plt\n",
    "from mpl_toolkits.axes_grid1 import make_axes_locatable\n",
    "\n",
    "### %matplotlib notebook"
   ]
  },
  {
   "cell_type": "markdown",
   "metadata": {},
   "source": [
    "## Region Growing"
   ]
  },
  {
   "cell_type": "markdown",
   "metadata": {},
   "source": [
    "### Creating a simple image\n",
    "\n",
    "- 5 x 5\n",
    "- 3 bits. 8 levels of intensity, [0, 7]."
   ]
  },
  {
   "cell_type": "code",
   "execution_count": 2,
   "metadata": {},
   "outputs": [],
   "source": [
    "img = np.array([[7, 0, 5, 6, 5],\n",
    "                [5, 1, 5, 7, 7],\n",
    "                [0, 3, 6, 5, 6],\n",
    "                [2, 1, 7, 7, 6],\n",
    "                [0, 1, 5, 6, 1]])"
   ]
  },
  {
   "cell_type": "markdown",
   "metadata": {},
   "source": [
    "### Creating the seed image\n",
    "\n",
    "- It must be an image of labels.\n",
    "- Each seed must have a single pixel. If you have more than one pixel, apply successive erosions until there is only one pixel left for each seed."
   ]
  },
  {
   "cell_type": "code",
   "execution_count": 3,
   "metadata": {},
   "outputs": [],
   "source": [
    "img_seed = np.array([[0, 0, 0, 0, 0],\n",
    "                     [0, 0, 0, 2, 0],\n",
    "                     [0, 0, 0, 0, 0],\n",
    "                     [0, 1, 0, 0, 0],\n",
    "                     [0, 0, 0, 0, 0]])"
   ]
  },
  {
   "cell_type": "markdown",
   "metadata": {},
   "source": [
    "### Plotting the images"
   ]
  },
  {
   "cell_type": "code",
   "execution_count": 4,
   "metadata": {},
   "outputs": [
    {
     "data": {
      "image/png": "[encoded data removed]",
      "text/plain": [
       "<Figure size 640x480 with 2 Axes>"
      ]
     },
     "metadata": {},
     "output_type": "display_data"
    }
   ],
   "source": [
    "plt.figure()\n",
    "plt.subplot(1,2,1)\n",
    "plt.imshow(img, cmap='gray')\n",
    "## plt.colorbar()\n",
    "plt.subplot(1,2,2)\n",
    "plt.imshow(img_seed)\n",
    "plt.show()"
   ]
  },
  {
   "cell_type": "markdown",
   "metadata": {},
   "source": [
    "### Example with a REAL image\n",
    "\n",
    "* ***UNCOMMENT to use***"
   ]
  },
  {
   "cell_type": "code",
   "execution_count": 5,
   "metadata": {},
   "outputs": [],
   "source": [
    "# # \"REAL\" image\n",
    "# # -------------\n",
    "# img = data.coffee()\n",
    "# img = color.rgb2gray(img)\n",
    "\n",
    "# img = util.img_as_ubyte(filters.gaussian(img, sigma=4))\n",
    "\n",
    "# # Information about the images\n",
    "# print(img.shape, img.dtype, img.min(), img.max())\n",
    "\n",
    "# # Builds the seed image\n",
    "# # ---------------------\n",
    "# img_seed = np.zeros(img.shape, dtype=img.dtype)\n",
    "# img_seed[266, 276] = 1 # xicara\n",
    "# img_seed[155, 350] = 2 #  café\n",
    "# img_seed[77, 526] = 3 # mesa\n",
    "\n",
    "# # Plot the images\n",
    "# # ---------------\n",
    "# plt.figure()\n",
    "# plt.subplot(1,2,1)\n",
    "# plt.imshow(img, cmap='gray')\n",
    "# ## plt.colorbar()\n",
    "# plt.subplot(1,2,2)\n",
    "# plt.imshow(morphology.dilation(img_seed, morphology.disk(5)))\n",
    "# plt.show()"
   ]
  },
  {
   "cell_type": "markdown",
   "metadata": {},
   "source": [
    "## Simple implementation of the region-growing algorithm"
   ]
  },
  {
   "cell_type": "code",
   "execution_count": 6,
   "metadata": {},
   "outputs": [
    {
     "name": "stdout",
     "output_type": "stream",
     "text": [
      "\n",
      "Number of seeds\n",
      "2\n",
      "\n",
      "List with pixel values under the seeds:\n",
      "[1, 7]\n",
      "\n",
      "Images containing the absolute differences between image f and the pixels under the seeds (Q criterion)\n",
      "\n",
      "Region Growing stage:\n",
      "\n",
      ">> Seed 0\n",
      "\n",
      ">> Seed 1\n"
     ]
    },
    {
     "data": {
      "image/png": "[encoded data removed]",
      "text/plain": [
       "<Figure size 640x480 with 1 Axes>"
      ]
     },
     "metadata": {},
     "output_type": "display_data"
    },
    {
     "data": {
      "image/png": "[encoded data removed]",
      "text/plain": [
       "<Figure size 640x480 with 1 Axes>"
      ]
     },
     "metadata": {},
     "output_type": "display_data"
    },
    {
     "data": {
      "image/png": "[encoded data removed]",
      "text/plain": [
       "<Figure size 640x480 with 1 Axes>"
      ]
     },
     "metadata": {},
     "output_type": "display_data"
    }
   ],
   "source": [
    "# ***** SELECT THE VALUE OF T *****\n",
    "# *** Note: Change when using actual images ***\n",
    "# Criterion Q: the pixels whose absolute differences in relation to the pixels under the seeds must be smaller than T.\n",
    "T = 3 # Sugestões: 3, 5 e 8. Imagem real: 100, 110, 120\n",
    "\n",
    "does_print = False\n",
    "\n",
    "# Getting the number of seeds\n",
    "num_seeds = img_seed.max()\n",
    "# TEST\n",
    "print('\\nNumber of seeds')\n",
    "print(num_seeds)\n",
    "\n",
    "# List containing the pixel values under the seeds.\n",
    "seed_values = []\n",
    "\n",
    "for i in range(num_seeds):\n",
    "    seed_value = img[img_seed==(i+1)]\n",
    "    ## print(seed_value)\n",
    "    seed_values.append(seed_value[0])\n",
    "# TEST\n",
    "print('\\nList with pixel values under the seeds:')\n",
    "print(seed_values)\n",
    "\n",
    "# List of absolute differences between f and the pixel values on the seeds\n",
    "img_dif_list = []\n",
    "for seed in seed_values:\n",
    "    img_dif_temp = np.abs(img - seed)\n",
    "    \n",
    "    img_dif_list.append(img_dif_temp)  \n",
    "    \n",
    "print('\\nImages containing the absolute differences between image f and the pixels under the seeds (Q criterion)')\n",
    "for i, (seed, img_dif) in enumerate(zip(seed_values, img_dif_list)):\n",
    "    if does_print:\n",
    "        print('Seed: %d. Pixel value: %d' % (i, seed))\n",
    "        print(img_dif)\n",
    "        \n",
    "\n",
    "    plt.figure()\n",
    "    plt.imshow(img_dif, cmap='gray')\n",
    "    plt.title('Seed %d' % (i+1))\n",
    "\n",
    "# print('\\nPixels that comply with the Q criterion')\n",
    "# for i, (seed, img_q) in enumerate(zip(seed_values, img_q_list)):\n",
    "#     print('Seed: %d. Pixel value: %d' % (i, seed))\n",
    "#     print(img_q)\n",
    "    \n",
    "# Initializes the output image with zeros.\n",
    "img_out = np.zeros(img.shape)\n",
    "    \n",
    "print('\\nRegion Growing stage:')\n",
    "# Keep only those pixels in img_q that are 8-connected to the seed\n",
    "# (Successive conditional dilations)\n",
    "for i, (seed, img_dif) in enumerate(zip(seed_values, img_dif_list)):\n",
    "    print('\\n>> Seed ' + str(i))\n",
    "    \n",
    "    # Pixels that comply with the Q criterion\n",
    "    img_q = img_dif < T\n",
    "    \n",
    "    # Removes pixels that have already been assigned to other seeds.\n",
    "    # Solves ambiguities. The first takes all!\n",
    "    img_q[img_out.astype(bool)] = 0\n",
    "\n",
    "    # Initial image containing only one seed for the growing regions\n",
    "    img_dil = img_seed == (i + 1)\n",
    "    \n",
    "    # Number of pixels in the image. Stop criteria.\n",
    "    num_px = img_dil.sum()\n",
    "    \n",
    "    dil_count = 0\n",
    "    \n",
    "    while True:\n",
    "        # Dilation with 3x3 structuring element (8-connected)\n",
    "        img_dil = morphology.dilation(img_dil, np.ones([3,3]))\n",
    "        \n",
    "        # Only pixels in img_q\n",
    "        img_dil = np.logical_and(img_dil, img_q)\n",
    "        \n",
    "        dil_count = dil_count + 1\n",
    "        \n",
    "        if does_print:\n",
    "            print('\\nDilation ' + str(dil_count))\n",
    "            print(img_dil)\n",
    "        \n",
    "        if num_px == img_dil.sum():\n",
    "            # The number of pixels has not increased\n",
    "            break\n",
    "        else:\n",
    "            num_px = img_dil.sum()\n",
    "    \n",
    "    img_out[img_dil==True] = (i + 1)\n",
    "    \n",
    "    if does_print:\n",
    "        print('\\nimg_out')\n",
    "        print(img_out)\n",
    "    \n",
    "if does_print:\n",
    "    print('\\nOutput image')\n",
    "    print('---------------')\n",
    "    print(img_out)\n",
    "\n",
    "plt.figure()\n",
    "plt.imshow(img_out)\n",
    "plt.show()"
   ]
  },
  {
   "cell_type": "markdown",
   "metadata": {},
   "source": [
    "## Bibliography\n",
    "---\n",
    "\n",
    "* GONZALEZ, R.C.; WOODS, R.E.; Digital Image Processing. 3rd edition. Pearson, 2009.\n",
    "* MARQUES FILHO, O.; VIEIRA NETO, H. Processamento digital de imagens. Brasport, 1999.\n",
    "    * In Brazilian Portuguese.\n",
    "    * Available for download on the author's website (Personal use only).\n",
    "    * http://dainf.ct.utfpr.edu.br/~hvieir/pub.html  \n",
    "* J. E. R. Queiroz, H. M. Gomes. Introdução ao Processamento Digital de Imagens. RITA. v. 13, 2006.\n",
    "    * In Brazilian Portuguese.\n",
    "    * http://www.dsc.ufcg.edu.br/~hmg/disciplinas/graduacao/vc-2016.2/Rita-Tutorial-PDI.pdf  \n",
    "* Universidade de Waterloo. Image Repository.\n",
    "    * http://links.uwaterloo.ca/Repository.html\n",
    "* The USC-SIPI Image Database    \n",
    "    * http://sipi.usc.edu/database/database.php\n",
    "* Gaël Varoquaux Emmanuelle Gouillart; Olav Vahtras; Pierre de Buyl (editores). Scipy Lecture Notes. Release 2020.1\n",
    "    * http://scipy-lectures.org/\n",
    "* scikit-image. Documentation.\n",
    "    * https://scikit-image.org/docs/dev/index.html\n",
    "* scikit-image. Documentação. Module 'filters'.\n",
    "    * https://scikit-image.org/docs/dev/api/skimage.filters.html\n",
    "    * scikit-image. Documentação. Module 'feature'.\n",
    "    * https://scikit-image.org/docs/dev/api/skimage.feature.html\n",
    "* scikit-image.Documentação. Module 'segmentation'.\n",
    "    * https://scikit-image.org/docs/dev/api/skimage.segmentation.html\n",
    "* scikit-image. Comparing edge-based and region-based segmentation.\n",
    "    * https://scikit-image.org/docs/dev/auto_examples/applications/plot_coins_segmentation.html\n",
    "* scikit-image. Label image regions.\n",
    "    * https://scikit-image.org/docs/dev/auto_examples/segmentation/plot_label.html\n",
    "* NumPy. Documentation.\n",
    "    * https://numpy.org/doc/stable/\n",
    "* NumPy. Convolution\n",
    "    * https://docs.scipy.org/doc/scipy/reference/generated/scipy.ndimage.convolve.html"
   ]
  }
 ],
 "metadata": {
  "hide_input": false,
  "kernelspec": {
   "display_name": "Python 3 (ipykernel)",
   "language": "python",
   "name": "python3"
  },
  "language_info": {
   "codemirror_mode": {
    "name": "ipython",
    "version": 3
   },
   "file_extension": ".py",
   "mimetype": "text/x-python",
   "name": "python",
   "nbconvert_exporter": "python",
   "pygments_lexer": "ipython3",
   "version": "3.9.18"
  },
  "toc": {
   "base_numbering": 1,
   "nav_menu": {},
   "number_sections": true,
   "sideBar": true,
   "skip_h1_title": true,
   "title_cell": "Índice",
   "title_sidebar": "Contents",
   "toc_cell": false,
   "toc_position": {},
   "toc_section_display": true,
   "toc_window_display": false
  }
 },
 "nbformat": 4,
 "nbformat_minor": 4
}
