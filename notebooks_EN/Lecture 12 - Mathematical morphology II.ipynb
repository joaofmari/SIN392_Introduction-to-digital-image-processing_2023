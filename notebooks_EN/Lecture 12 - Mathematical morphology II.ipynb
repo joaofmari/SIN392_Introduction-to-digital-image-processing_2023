{
 "cells": [
  {
   "attachments": {},
   "cell_type": "markdown",
   "metadata": {},
   "source": [
    "SIN-392 - Introduction to Digital Image Processing (2023-1)\n",
    "\n",
    "# Lecture 12 - Mathematical morphology II\n",
    "\n",
    "Prof. João Fernando Mari ([*joaofmari.github.io*](https://joaofmari.github.io/))\n",
    "\n",
    "---"
   ]
  },
  {
   "attachments": {},
   "cell_type": "markdown",
   "metadata": {},
   "source": [
    "## Importing the libraries\n",
    "---"
   ]
  },
  {
   "cell_type": "code",
   "execution_count": 1,
   "metadata": {},
   "outputs": [],
   "source": [
    "import numpy as np\n",
    "\n",
    "from scipy import ndimage\n",
    "from skimage import img_as_float, filters, morphology, data\n",
    "\n",
    "import matplotlib.pyplot as plt\n",
    "### %matplotlib notebook"
   ]
  },
  {
   "attachments": {},
   "cell_type": "markdown",
   "metadata": {},
   "source": [
    "## Creating a simple binary image"
   ]
  },
  {
   "cell_type": "code",
   "execution_count": 2,
   "metadata": {},
   "outputs": [],
   "source": [
    "img_1 = np.array([[0, 0, 0, 0, 0, 0, 0, 0, 0, 0, 0, 0, 0, 0, 0, 0, 0],\n",
    "                  [0, 0, 0, 0, 0, 0, 0, 0, 0, 0, 0, 0, 0, 0, 0, 0, 0],\n",
    "                  [0, 0, 1, 1, 1, 1, 1, 0, 0, 0, 1, 1, 1, 1, 1, 0, 0],\n",
    "                  [0, 0, 1, 1, 1, 1, 1, 0, 0, 0, 1, 1, 1, 0, 0, 0, 0],\n",
    "                  [0, 0, 1, 1, 1, 1, 1, 0, 0, 0, 1, 1, 1, 0, 0, 0, 0],\n",
    "                  [0, 0, 0, 0, 1, 1, 1, 1, 1, 1, 1, 1, 1, 0, 0, 0, 0],\n",
    "                  [0, 0, 1, 1, 1, 1, 1, 0, 0, 0, 1, 1, 1, 0, 0, 0, 0],\n",
    "                  [0, 0, 1, 1, 1, 1, 1, 0, 0, 0, 1, 1, 1, 0, 0, 0, 0],\n",
    "                  [0, 0, 1, 1, 1, 1, 1, 0, 0, 0, 1, 1, 1, 1, 1, 0, 0],\n",
    "                  [0, 0, 0, 0, 0, 0, 0, 0, 0, 0, 0, 0, 0, 0, 0, 0, 0],\n",
    "                  [0, 0, 0, 0, 0, 0, 0, 0, 0, 0, 0, 0, 0, 0, 0, 0, 0],\n",
    "                  [0, 0, 0, 0, 0, 0, 0, 0, 0, 0, 0, 0, 0, 0, 0, 0, 0],\n",
    "                  [0, 0, 0, 0, 0, 0, 0, 1, 1, 1, 0, 0, 0, 1, 0, 0, 0],\n",
    "                  [0, 0, 0, 1, 0, 0, 0, 1, 1, 1, 0, 0, 1, 1, 1, 0, 0],\n",
    "                  [0, 0, 0, 0, 0, 0, 0, 1, 1, 1, 0, 0, 0, 1, 0, 0, 0],\n",
    "                  [0, 0, 0, 0, 0, 0, 0, 0, 0, 0, 0, 0, 0, 0, 0, 0, 0],\n",
    "                  [0, 0, 0, 0, 0, 0, 0, 0, 0, 0, 0, 0, 0, 0, 0, 0, 0]])\n",
    "\n",
    "img_1 = img_1.astype(bool)"
   ]
  },
  {
   "cell_type": "code",
   "execution_count": 3,
   "metadata": {},
   "outputs": [],
   "source": [
    "img_2 = np.array([[0, 0, 0, 0, 0, 0, 0, 0],\n",
    "                  [0, 1, 1, 0, 1, 1, 0, 0],\n",
    "                  [0, 0, 0, 1, 1, 0, 0, 0],\n",
    "                  [0, 0, 0, 1, 1, 0, 0, 0],\n",
    "                  [0, 1, 0, 1, 1, 1, 0, 0],\n",
    "                  [0, 1, 1, 1, 1, 1, 0, 0],\n",
    "                  [0, 1, 1, 1, 1, 1, 0, 0],\n",
    "                  [0, 0, 0, 0, 0, 0, 0, 0]])\n",
    "\n",
    "img_2 = img_2.astype(bool)"
   ]
  },
  {
   "cell_type": "code",
   "execution_count": 4,
   "metadata": {},
   "outputs": [],
   "source": [
    "img_3 = np.array([[0, 0, 0, 0, 0, 0, 0, 0],\n",
    "                  [0, 1, 1, 0, 0, 1, 0, 0],\n",
    "                  [0, 1, 0, 1, 0, 1, 1, 0],\n",
    "                  [0, 0, 0, 1, 0, 1, 0, 0],\n",
    "                  [0, 1, 0, 1, 1, 1, 0, 0],\n",
    "                  [0, 0, 0, 0, 0, 0, 0, 0],\n",
    "                  [0, 1, 1, 1, 1, 1, 0, 0],\n",
    "                  [0, 0, 0, 0, 0, 0, 0, 0]], dtype=bool)\n",
    "\n",
    "img_3 = img_3.astype(bool)"
   ]
  },
  {
   "attachments": {},
   "cell_type": "markdown",
   "metadata": {},
   "source": [
    "Hit or Miss Transformation\n",
    "----\n",
    "* Set two structuring elements, one for 1's and one for the 0's.\n",
    "* The EE used to detect 1's have 1 in the position where we expect 1's\n",
    "* The EE used to detect 0's has 1 in the position where we expect 0's.\n",
    "* Positions with 0's in booth EEs are considered \"don't care\". That is, it doesn't matter if there were 1's or 0's."
   ]
  },
  {
   "cell_type": "code",
   "execution_count": 5,
   "metadata": {},
   "outputs": [
    {
     "data": {
      "image/png": "[encoded data removed]",
      "text/plain": [
       "<Figure size 640x480 with 1 Axes>"
      ]
     },
     "metadata": {},
     "output_type": "display_data"
    }
   ],
   "source": [
    "img = img_1\n",
    "\n",
    "# Plot the image\n",
    "plt.figure()\n",
    "plt.imshow(img, cmap='gray')\n",
    "plt.show()"
   ]
  },
  {
   "attachments": {},
   "cell_type": "markdown",
   "metadata": {},
   "source": [
    "### Detecting 3x3 squares that are NOT part of a larger connected component."
   ]
  },
  {
   "cell_type": "code",
   "execution_count": 6,
   "metadata": {},
   "outputs": [],
   "source": [
    "# Structuring elements to detect square objects with size 3x3\n",
    "#     that are NOT part of any larger connected component.\n",
    "ee_hit_1 = np.array([[0, 0, 0, 0, 0],\n",
    "                     [0, 1, 1, 1, 0],\n",
    "                     [0, 1, 1, 1, 0],\n",
    "                     [0, 1, 1, 1, 0],\n",
    "                     [0, 0, 0, 0, 0]])\n",
    "\n",
    "ee_miss_1 = np.array([[1, 1, 1, 1, 1],\n",
    "                      [1, 0, 0, 0, 1],\n",
    "                      [1, 0, 0, 0, 1],\n",
    "                      [1, 0, 0, 0, 1],\n",
    "                      [1, 1, 1, 1, 1]])"
   ]
  },
  {
   "cell_type": "code",
   "execution_count": 7,
   "metadata": {},
   "outputs": [],
   "source": [
    "img_hit_miss_1 = np.logical_and(morphology.binary_erosion(img, ee_hit_1), \n",
    "                                morphology.binary_erosion(~img, ee_miss_1))"
   ]
  },
  {
   "attachments": {},
   "cell_type": "markdown",
   "metadata": {},
   "source": [
    "### Detecting 3x3 squares that MAY be part of a larger connected component."
   ]
  },
  {
   "cell_type": "code",
   "execution_count": 8,
   "metadata": {},
   "outputs": [],
   "source": [
    "# Structuring elements to detect square objects with size 3x3 \n",
    "#     that MAY be part of no larger connected component.\n",
    "ee_hit_2 = np.array([[1, 1, 1],\n",
    "                     [1, 1, 1],\n",
    "                     [1, 1, 1]])\n",
    "\n",
    "ee_miss_2 = np.array([[0, 0, 0],\n",
    "                      [0, 0, 0],\n",
    "                      [0, 0, 0]])                      "
   ]
  },
  {
   "cell_type": "code",
   "execution_count": 9,
   "metadata": {},
   "outputs": [],
   "source": [
    "img_hit_miss_2 = np.logical_and(morphology.binary_erosion(img, ee_hit_2), \n",
    "                                morphology.binary_erosion(~img, ee_miss_2))"
   ]
  },
  {
   "cell_type": "code",
   "execution_count": 10,
   "metadata": {},
   "outputs": [
    {
     "data": {
      "image/png": "[encoded data removed]",
      "text/plain": [
       "<Figure size 900x500 with 3 Axes>"
      ]
     },
     "metadata": {},
     "output_type": "display_data"
    }
   ],
   "source": [
    "plt.figure(figsize=(9, 5))\n",
    "plt.subplot(1,3,1)\n",
    "plt.imshow(img, cmap='gray')\n",
    "plt.subplot(1,3,2)\n",
    "plt.imshow(img_hit_miss_1, cmap='gray')\n",
    "plt.subplot(1,3,3)\n",
    "plt.imshow(img_hit_miss_2, cmap='gray')\n",
    "\n",
    "plt.show()"
   ]
  },
  {
   "attachments": {},
   "cell_type": "markdown",
   "metadata": {},
   "source": [
    "### Corner detection using the Hit-or-Miss Transform"
   ]
  },
  {
   "cell_type": "code",
   "execution_count": 11,
   "metadata": {},
   "outputs": [
    {
     "data": {
      "image/png": "[encoded data removed]",
      "text/plain": [
       "<Figure size 640x480 with 1 Axes>"
      ]
     },
     "metadata": {},
     "output_type": "display_data"
    }
   ],
   "source": [
    "img = img_2\n",
    "\n",
    "# Plot the image\n",
    "plt.figure()\n",
    "plt.imshow(img, cmap='gray')\n",
    "plt.show()"
   ]
  },
  {
   "cell_type": "code",
   "execution_count": 12,
   "metadata": {},
   "outputs": [],
   "source": [
    "ee_sup_esq_one = np.array([[0, 0, 0],\n",
    "                           [0, 1, 1],\n",
    "                           [0, 1, 0]])\n",
    "ee_sup_esq_zero =  np.array([[1, 1, 0],\n",
    "                             [1, 0, 0],\n",
    "                             [0, 0, 0]])\n",
    "\n",
    "ee_inf_esq_one =  np.array([[0, 1, 0],\n",
    "                            [0, 1, 1],\n",
    "                            [0, 0, 0]])\n",
    "ee_inf_esq_zero =  np.array([[0, 0, 0],\n",
    "                             [1, 0, 0],\n",
    "                             [1, 1, 0]])\n",
    "\n",
    "ee_sup_dir_one =  np.array([[0, 0, 0],\n",
    "                            [1, 1, 0],\n",
    "                            [0, 1, 0]])\n",
    "ee_sup_dir_zero =  np.array([[0, 1, 1],\n",
    "                             [0, 0, 1],\n",
    "                             [0, 0, 0]])\n",
    "\n",
    "ee_inf_dir_one =  np.array([[0, 1, 0],\n",
    "                            [1, 1, 0],\n",
    "                            [0, 0, 0]])\n",
    "ee_inf_dir_zero =  np.array([[0, 0, 0],\n",
    "                             [0, 0, 1],\n",
    "                             [0, 1, 1]])\n",
    "\n",
    "ee_one_list = [ee_sup_esq_one, ee_inf_esq_one, ee_sup_dir_one, ee_inf_dir_one]\n",
    "ee_zero_list = [ee_sup_esq_zero, ee_inf_esq_zero, ee_sup_dir_zero, ee_inf_dir_zero]"
   ]
  },
  {
   "attachments": {},
   "cell_type": "markdown",
   "metadata": {},
   "source": [
    "#### Implementation of the Hit-or-miss Transform from scratch"
   ]
  },
  {
   "cell_type": "code",
   "execution_count": 13,
   "metadata": {},
   "outputs": [],
   "source": [
    "img_hit_miss_list = []\n",
    "\n",
    "img_hit_miss = np.zeros(img.shape)\n",
    "\n",
    "for ee_one, ee_zero in zip(ee_one_list, ee_zero_list):\n",
    "    img_hit_miss_temp = np.logical_and(morphology.binary_erosion(img, ee_one), \n",
    "                                       morphology.binary_erosion(~img, ee_zero))\n",
    "    img_hit_miss_list.append(img_hit_miss_temp)\n",
    "    \n",
    "    img_hit_miss = np.logical_or(img_hit_miss, img_hit_miss_temp)"
   ]
  },
  {
   "cell_type": "code",
   "execution_count": 14,
   "metadata": {},
   "outputs": [
    {
     "data": {
      "image/png": "[encoded data removed]",
      "text/plain": [
       "<Figure size 900x500 with 8 Axes>"
      ]
     },
     "metadata": {},
     "output_type": "display_data"
    }
   ],
   "source": [
    "fig, ax  = plt.subplots(2, 4, figsize=(9,5))\n",
    "\n",
    "img_ = ax[0,0].imshow(img, cmap='gray')\n",
    "\n",
    "for i, img_hit_miss_temp in enumerate(img_hit_miss_list):\n",
    "    img_ = ax[1,i].imshow(img_hit_miss_temp, cmap='gray')\n",
    "    \n",
    "plt.show()"
   ]
  },
  {
   "cell_type": "code",
   "execution_count": 15,
   "metadata": {},
   "outputs": [
    {
     "data": {
      "image/png": "[encoded data removed]",
      "text/plain": [
       "<Figure size 900x500 with 1 Axes>"
      ]
     },
     "metadata": {},
     "output_type": "display_data"
    }
   ],
   "source": [
    "plt.figure(figsize=(9,5))\n",
    "plt.imshow(img_hit_miss, cmap='gray')\n",
    "\n",
    "plt.show()"
   ]
  },
  {
   "attachments": {},
   "cell_type": "markdown",
   "metadata": {},
   "source": [
    "#### Implementation of the Hit-or-miss Transform in the SciPy library"
   ]
  },
  {
   "cell_type": "code",
   "execution_count": 16,
   "metadata": {},
   "outputs": [],
   "source": [
    "img_hit_miss_list = []\n",
    "\n",
    "img_hit_miss = np.zeros(img.shape)\n",
    "\n",
    "for ee_one, ee_zero in zip(ee_one_list, ee_zero_list):\n",
    "    img_hit_miss_temp = ndimage.binary_hit_or_miss(img, ee_one, ee_zero)\n",
    "    \n",
    "    img_hit_miss_list.append(img_hit_miss_temp)\n",
    "    \n",
    "    img_hit_miss = np.logical_or(img_hit_miss, img_hit_miss_temp)"
   ]
  },
  {
   "attachments": {},
   "cell_type": "markdown",
   "metadata": {},
   "source": [
    "##### Plotando as imagens"
   ]
  },
  {
   "cell_type": "code",
   "execution_count": 17,
   "metadata": {},
   "outputs": [
    {
     "data": {
      "image/png": "[encoded data removed]",
      "text/plain": [
       "<Figure size 900x500 with 8 Axes>"
      ]
     },
     "metadata": {},
     "output_type": "display_data"
    }
   ],
   "source": [
    "fig, ax  = plt.subplots(2, 4, figsize=(9,5))\n",
    "\n",
    "img_ = ax[0,0].imshow(img, cmap='gray')\n",
    "\n",
    "for i, img_hit_miss_temp in enumerate(img_hit_miss_list):\n",
    "    img_ = ax[1,i].imshow(img_hit_miss_temp, cmap='gray')\n",
    "    \n",
    "plt.show()"
   ]
  },
  {
   "cell_type": "code",
   "execution_count": 18,
   "metadata": {},
   "outputs": [
    {
     "data": {
      "image/png": "[encoded data removed]",
      "text/plain": [
       "<Figure size 900x500 with 1 Axes>"
      ]
     },
     "metadata": {},
     "output_type": "display_data"
    }
   ],
   "source": [
    "plt.figure(figsize=(9,5))\n",
    "plt.imshow(img_hit_miss, cmap='gray')\n",
    "\n",
    "plt.show()"
   ]
  },
  {
   "attachments": {},
   "cell_type": "markdown",
   "metadata": {},
   "source": [
    "### Extreme point detection using the Hit-or-Miss transform"
   ]
  },
  {
   "cell_type": "code",
   "execution_count": 19,
   "metadata": {},
   "outputs": [
    {
     "data": {
      "image/png": "[encoded data removed]",
      "text/plain": [
       "<Figure size 640x480 with 1 Axes>"
      ]
     },
     "metadata": {},
     "output_type": "display_data"
    }
   ],
   "source": [
    "img = img_3\n",
    "\n",
    "# Plot the image\n",
    "plt.figure()\n",
    "plt.imshow(img, cmap='gray')\n",
    "plt.show()"
   ]
  },
  {
   "cell_type": "code",
   "execution_count": 20,
   "metadata": {},
   "outputs": [],
   "source": [
    "ee_up_one = np.array([[0, 0, 0],\n",
    "                      [0, 1, 0],\n",
    "                      [0, 0, 0]])\n",
    "ee_up_zero =  np.array([[0, 1, 0],\n",
    "                        [1, 0, 1],\n",
    "                        [0, 0, 0]])\n",
    "\n",
    "ee_down_one =  np.array([[0, 0, 0],\n",
    "                         [0, 1, 0],\n",
    "                         [0, 0, 0]])\n",
    "ee_down_zero =  np.array([[0, 0, 0],\n",
    "                          [1, 0, 1],\n",
    "                          [0, 1, 0]])\n",
    "\n",
    "ee_left_one =  np.array([[0, 0, 0],\n",
    "                         [0, 1, 0],\n",
    "                         [0, 0, 0]])\n",
    "ee_left_zero =  np.array([[0, 1, 0],\n",
    "                          [1, 0, 0],\n",
    "                          [0, 1, 0]])\n",
    "\n",
    "ee_right_one =  np.array([[0, 0, 0],\n",
    "                          [0, 1, 0],\n",
    "                          [0, 0, 0]])\n",
    "ee_right_zero =  np.array([[0, 1, 0],\n",
    "                           [0, 0, 1],\n",
    "                           [0, 1, 0]])\n",
    "\n",
    "ee_one_list = [ee_up_one, ee_down_one, ee_left_one, ee_right_one]\n",
    "ee_zero_list = [ee_up_zero, ee_down_zero, ee_left_zero, ee_right_zero]"
   ]
  },
  {
   "attachments": {},
   "cell_type": "markdown",
   "metadata": {},
   "source": [
    "### Implementation of the Hit-or-miss Transform from scratch"
   ]
  },
  {
   "cell_type": "code",
   "execution_count": 21,
   "metadata": {},
   "outputs": [],
   "source": [
    "img_hit_miss_list = []\n",
    "\n",
    "img_hit_miss = np.zeros(img.shape)\n",
    "\n",
    "for ee_one, ee_zero in zip(ee_one_list, ee_zero_list):\n",
    "    img_hit_miss_temp = np.logical_and(morphology.binary_erosion(img, ee_one), \n",
    "                                       morphology.binary_erosion(~img, ee_zero))\n",
    "    img_hit_miss_list.append(img_hit_miss_temp)\n",
    "    img_hit_miss = np.logical_or(img_hit_miss, img_hit_miss_temp)"
   ]
  },
  {
   "attachments": {},
   "cell_type": "markdown",
   "metadata": {},
   "source": [
    "#### Plotting the images"
   ]
  },
  {
   "cell_type": "code",
   "execution_count": 22,
   "metadata": {},
   "outputs": [
    {
     "data": {
      "image/png": "[encoded data removed]",
      "text/plain": [
       "<Figure size 900x500 with 8 Axes>"
      ]
     },
     "metadata": {},
     "output_type": "display_data"
    }
   ],
   "source": [
    "fig, ax  = plt.subplots(2, 4, figsize=(9,5))\n",
    "\n",
    "img_ = ax[0,0].imshow(img, cmap='gray')\n",
    "\n",
    "for i, img_hit_miss_temp in enumerate(img_hit_miss_list):\n",
    "    img_ = ax[1,i].imshow(img_hit_miss_temp, cmap='gray')\n",
    "    \n",
    "plt.show()"
   ]
  },
  {
   "cell_type": "code",
   "execution_count": 23,
   "metadata": {},
   "outputs": [
    {
     "data": {
      "image/png": "[encoded data removed]",
      "text/plain": [
       "<Figure size 900x500 with 1 Axes>"
      ]
     },
     "metadata": {},
     "output_type": "display_data"
    }
   ],
   "source": [
    "plt.figure(figsize=(9,5))\n",
    "plt.imshow(img_hit_miss, cmap='gray')\n",
    "\n",
    "plt.show()"
   ]
  },
  {
   "attachments": {},
   "cell_type": "markdown",
   "metadata": {},
   "source": [
    "## Bibliography\n",
    "---\n",
    "\n",
    "* GONZALEZ, R.C.; WOODS, R.E.; Digital Image Processing. 3rd edition. Pearson, 2009.\n",
    "* MARQUES FILHO, O.; VIEIRA NETO, H. Processamento digital de imagens. Brasport, 1999.\n",
    "    * In Brazilian Portuguese.\n",
    "    * Available for download on the author's website (Personal use only).\n",
    "    * http://dainf.ct.utfpr.edu.br/~hvieir/pub.html  \n",
    "* J. E. R. Queiroz, H. M. Gomes. Introdução ao Processamento Digital de Imagens. RITA. v. 13, 2006.\n",
    "    * In Brazilian Portuguese.\n",
    "    * http://www.dsc.ufcg.edu.br/~hmg/disciplinas/graduacao/vc-2016.2/Rita-Tutorial-PDI.pdf  \n",
    "* Prof. Aldo von Wangenheim. Morfologia Matemática\n",
    "    * http://www.inf.ufsc.br/~visao/morfologia.pdf\n",
    "* Prof. James Facon. A Morfologia Matemática e suas Aplicações em Processamento de Imagens - Minicurso – WVC 2011\n",
    "    * http://www.ppgia.pucpr.br/~facon/Books/2011WVCMinicurso2Morfo.pdf \n",
    "* Universidade de Waterloo. Image Repository.\n",
    "    * http://links.uwaterloo.ca/Repository.html\n",
    "* The USC-SIPI Image Database.    \n",
    "    * http://sipi.usc.edu/database/database.php\n",
    "* Gaël Varoquaux Emmanuelle Gouillart; Olav Vahtras; Pierre de Buyl (editores). Scipy Lecture Notes. Release 2020.1\n",
    "    * http://scipy-lectures.org/\n",
    "* scikit-image. Documentation.\n",
    "    * https://scikit-image.org/docs/dev/index.html\n",
    "* scikit-image. Documentação. Module 'morphology'. \n",
    "    * https://scikit-image.org/docs/dev/api/skimage.morphology.html\n",
    "* Morphological Filtering \n",
    "    * https://scikit-image.org/docs/dev/auto_examples/applications/plot_morphology.html\n",
    "* OpenCV. Hit-or-Miss.\n",
    "    * https://docs.opencv.org/3.4/db/d06/tutorial_hitOrMiss.html\n",
    "* NumPy. Documentation.\n",
    "    * https://numpy.org/doc/stable/"
   ]
  }
 ],
 "metadata": {
  "hide_input": false,
  "kernelspec": {
   "display_name": "Python 3 (ipykernel)",
   "language": "python",
   "name": "python3"
  },
  "language_info": {
   "codemirror_mode": {
    "name": "ipython",
    "version": 3
   },
   "file_extension": ".py",
   "mimetype": "text/x-python",
   "name": "python",
   "nbconvert_exporter": "python",
   "pygments_lexer": "ipython3",
   "version": "3.9.18"
  },
  "toc": {
   "base_numbering": 1,
   "nav_menu": {},
   "number_sections": true,
   "sideBar": true,
   "skip_h1_title": true,
   "title_cell": "Índice",
   "title_sidebar": "Contents",
   "toc_cell": false,
   "toc_position": {},
   "toc_section_display": true,
   "toc_window_display": true
  }
 },
 "nbformat": 4,
 "nbformat_minor": 4
}
